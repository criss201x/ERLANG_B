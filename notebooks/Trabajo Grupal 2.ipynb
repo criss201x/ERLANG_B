{
 "cells": [
  {
   "cell_type": "markdown",
   "id": "015313b8",
   "metadata": {},
   "source": [
    "# **Simulación de cola $M/M/k/k/∞$** \n",
    "#### By: Cristian Alape, Alvaro Zarabanda, Youssef Ortiz "
   ]
  },
  {
   "cell_type": "markdown",
   "id": "faea46f0",
   "metadata": {},
   "source": [
    "## *Primera actividad*"
   ]
  },
  {
   "cell_type": "markdown",
   "id": "a98f80d2",
   "metadata": {},
   "source": [
    "Construyan el modelo matemático de la cola asignada a su grupo. El modelo debe incluir:\n",
    "diagrama de transición de estados, ecuaciones de estado estacionario y el procedimiento matemático que permita calcular la medida de desempeño de interés (propabilidad de bloqueo:\n",
    "$Pk$, en los sistemas $M/M/1/k/∞$ y $M/M/k/k/∞$; y tiempo medio de espera: $E[Tw]$, en el\n",
    "sistema $M/M/k/∞/∞$)."
   ]
  },
  {
   "cell_type": "markdown",
   "id": "05d15380",
   "metadata": {},
   "source": [
    "<div style=\"text-align: center;\">\n",
    "\n",
    "  ![Figura 1: Diagrama de la cola Erlang B](../assets/ErlangB_diagram.svg)\n",
    "  <p><strong>Figura 1:</strong> Diagrama de la cola Erlang B.</p>\n",
    "</div>"
   ]
  },
  {
   "cell_type": "markdown",
   "id": "6e87b824",
   "metadata": {},
   "source": [
    "Para el analisis de esta cola, primero se plantea y se tiene en cuenta el diagrama de transicion de estados para el modelado matematico:"
   ]
  },
  {
   "cell_type": "markdown",
   "id": "2687e621",
   "metadata": {},
   "source": [
    "<div style=\"text-align: center;\">\n",
    "\n",
    "  ![Figura 1: Diagrama de la cola Erlang B](../assets/Estados.svg)\n",
    "  \n",
    "  <p><strong>Figura 2:</strong> Diagrama de transición de estados.</p>\n",
    "</div>"
   ]
  },
  {
   "cell_type": "markdown",
   "id": "70e748a0",
   "metadata": {},
   "source": [
    "De esta forma podemos obtener la eciaciones de destado estacionario:"
   ]
  },
  {
   "cell_type": "markdown",
   "id": "c391b19e",
   "metadata": {},
   "source": [
    "<table style=\"width:100%; text-align: center;\">\n",
    "  <tr>\n",
    "    <th>Estado</th>\n",
    "    <th>Tasa promedio de salida del estado</th>\n",
    "    <th>Tasa promedio de llegada al estado</th>\n",
    "  </tr>\n",
    "  <tr>\n",
    "    <td>0</td>\n",
    "    <td><span>$2\\lambda P_0$</span></td>\n",
    "    <td><span>$\\mu P_1$</span></td>\n",
    "  </tr>\n",
    "  <tr>\n",
    "    <td>1</td>\n",
    "    <td><span>$\\lambda P_1 + \\mu P_1$</span></td>\n",
    "    <td><span>$2\\mu P_2$</span></td>\n",
    "  </tr>\n",
    "  <tr>\n",
    "    <td>2</td>\n",
    "    <td><span>$\\lambda P_2 + \\mu P_2$</span></td>\n",
    "    <td><span>$3\\mu P_3$</span></td>\n",
    "  </tr>\n",
    "  <tr>\n",
    "    <td>3</td>\n",
    "    <td><span>$\\lambda P_3 + \\mu P_3$</span></td>\n",
    "    <td><span>$4\\mu P_4$</span></td>\n",
    "  </tr>\n",
    "</table>\n",
    "\n",
    "<p><strong>Fórmula general:</strong></p>\n",
    "<p><span>$P_n = \\frac{\\lambda}{n\\mu} P_{n-1}$</span></p>\n"
   ]
  }
 ],
 "metadata": {
  "kernelspec": {
   "display_name": ".venv",
   "language": "python",
   "name": "python3"
  },
  "language_info": {
   "name": "python",
   "version": "3.13.3"
  }
 },
 "nbformat": 4,
 "nbformat_minor": 5
}
