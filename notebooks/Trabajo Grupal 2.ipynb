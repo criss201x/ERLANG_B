{
 "cells": [
  {
   "cell_type": "markdown",
   "id": "015313b8",
   "metadata": {},
   "source": [
    "# **Simulación de cola $M/M/k/k/∞$ (Erlang B)** \n",
    "#### By: Cristian Alape, Alvaro Zarabanda, Youssef Ortiz"
   ]
  },
  {
   "cell_type": "markdown",
   "id": "faea46f0",
   "metadata": {},
   "source": [
    "## *Primera actividad*"
   ]
  },
  {
   "cell_type": "markdown",
   "id": "a98f80d2",
   "metadata": {},
   "source": [
    "Construyan el modelo matemático de la cola asignada a su grupo. El modelo debe incluir:\n",
    "diagrama de transición de estados, ecuaciones de estado estacionario y el procedimiento matemático que permita calcular la medida de desempeño de interés (propabilidad de bloqueo:\n",
    "$Pk$, en los sistemas $M/M/1/k/∞$ y $M/M/k/k/∞$; y tiempo medio de espera: $E[Tw]$, en el\n",
    "sistema $M/M/k/∞/∞$)."
   ]
  },
  {
   "cell_type": "markdown",
   "id": "05d15380",
   "metadata": {},
   "source": [
    "<div style=\"text-align: center;\">\n",
    "\n",
    "  ![Figura 1: Diagrama de la cola Erlang B](../assets/Erlang_B.png)\n",
    "  <p><strong>Figura 1:</strong> Diagrama de la cola Erlang B.</p>\n",
    "</div>"
   ]
  },
  {
   "cell_type": "markdown",
   "id": "6e87b824",
   "metadata": {},
   "source": [
    "Para el analisis de esta cola, primero se plantea y se tiene en cuenta el diagrama de transicion de estados para el modelado matematico:"
   ]
  },
  {
   "cell_type": "markdown",
   "id": "2687e621",
   "metadata": {},
   "source": [
    "<div style=\"text-align: center;\">\n",
    "\n",
    "  ![Figura 1: Diagrama de la cola Erlang B](../assets/Estados.png)\n",
    "  \n",
    "  <p><strong>Figura 2:</strong> Diagrama de transición de estados.</p>\n",
    "</div>"
   ]
  },
  {
   "cell_type": "markdown",
   "id": "70e748a0",
   "metadata": {},
   "source": [
    "De esta forma podemos obtener la eciaciones de destado estacionario:"
   ]
  },
  {
   "cell_type": "markdown",
   "id": "c391b19e",
   "metadata": {},
   "source": [
    "<div style=\"text-align: center;\">\n",
    "\n",
    "  | Estado | Tasa promedio de salida del estado | Tasa promedio de llegada al estado | Probabilidad del estado |\n",
    "  |--------|-----------------------------------|-----------------------------------|-----------------------------------|\n",
    "  | 0      | $\\lambda P_0$                    | $\\mu P_1$                        | $$ P_1 = \\frac{\\lambda}{\\mu}P_0 $$  |\n",
    "  | 1      | $\\lambda P_1 + \\mu P_1$           | $\\lambda P_0 + 2\\mu P_2$        | $$ P_2 = \\frac{\\lambda}{2\\mu}P_1 $$  |\n",
    "  | 2      | $\\lambda P_2 + 2\\mu P_2$           |  $\\lambda P_1 + 3\\mu P_3$                       | $$ P_3 = \\frac{\\lambda}{3\\mu}P_2 $$                        |\n",
    "  | 3      | $\\lambda P_3 + 3\\mu P_3$           | $\\lambda P_2 + 4\\mu P_4$                       | $$ P_4 = \\frac{\\lambda}{4\\mu}P_3 $$                        |\n",
    "\n",
    "</div>\n",
    "\n",
    "  <p><strong>Tabla 1:</strong> Ecuaciones de estado estacionario.</p>\n",
    "\n",
    "**Fórmula general de probabilidad de estado:**\n",
    "\n",
    "$$\n",
    "P_n = \\frac{\\lambda}{n\\mu} P_{n-1}\n",
    "$$\n"
   ]
  },
  {
   "cell_type": "markdown",
   "id": "bfdbbff4",
   "metadata": {},
   "source": [
    "Luego, hallando $P_n$ en funcion de $P_0$ obtenemos:\n",
    "\n",
    "$$\n",
    "P_n = \\left(\\frac{\\lambda}{\\mu}\\right)^n \\frac{1}{n!} P_0\n",
    "$$"
   ]
  },
  {
   "cell_type": "markdown",
   "id": "ad8b248d",
   "metadata": {},
   "source": [
    "Sabiendo que la suma de las probabilidades es 1, entonces $P_0 + P_1 + P_2+ ... + P_n = 1$ asi:"
   ]
  },
  {
   "cell_type": "markdown",
   "id": "00a5d096",
   "metadata": {},
   "source": [
    "$$ \\sum_{n=0}^{k} P_n  = 1$$"
   ]
  },
  {
   "cell_type": "markdown",
   "id": "ad9c0fe4",
   "metadata": {},
   "source": [
    "Luego reemplazando $P_n$"
   ]
  },
  {
   "cell_type": "markdown",
   "id": "7ec8a190",
   "metadata": {},
   "source": [
    "$$ \\sum_{n=0}^{k} \\left(\\left(\\frac{\\lambda}{\\mu}\\right)^n \\frac{1}{n!}  P_0\\right) = 1$$"
   ]
  },
  {
   "cell_type": "markdown",
   "id": "797712c2",
   "metadata": {},
   "source": [
    "Despejando $P_0$"
   ]
  },
  {
   "cell_type": "markdown",
   "id": "673a8242",
   "metadata": {},
   "source": [
    "$$P_0 = \\frac{1}{\\sum_{n=0}^{k} \\left(\\frac{\\lambda}{\\mu}\\right)^n \\frac{1}{n!}}$$"
   ]
  },
  {
   "cell_type": "markdown",
   "id": "17b22ab6",
   "metadata": {},
   "source": [
    "Finalmente se obtiene $P_n$ en funcion de $\\lambda$ y $\\mu$"
   ]
  },
  {
   "cell_type": "markdown",
   "id": "6c7d99bd",
   "metadata": {},
   "source": [
    "$$\n",
    "P_n = \\frac{\\left(\\frac{\\lambda}{\\mu}\\right)^n \\frac{1}{n!}}{\\sum_{n=0}^{k} \\left(\\frac{\\lambda}{\\mu}\\right)^n \\frac{1}{n!}}\n",
    "$$"
   ]
  },
  {
   "cell_type": "markdown",
   "id": "9cc6435c",
   "metadata": {},
   "source": [
    "Luego, se halla la probabilidad de bloqueo reemplazando $n$ por $k$"
   ]
  },
  {
   "cell_type": "markdown",
   "id": "ac1f8c0d",
   "metadata": {},
   "source": [
    "$$\n",
    "P_k = \\frac{\\left(\\frac{\\lambda}{\\mu}\\right)^k \\frac{1}{k!}}{\\sum_{n=0}^{k} \\left(\\frac{\\lambda}{\\mu}\\right)^n \\frac{1}{n!}}\n",
    "$$"
   ]
  },
  {
   "cell_type": "markdown",
   "id": "ec970a98",
   "metadata": {},
   "source": [
    "Luego $$A= \\frac{\\lambda}{\\mu}$$"
   ]
  },
  {
   "cell_type": "markdown",
   "id": "227e5748",
   "metadata": {},
   "source": [
    "Y reemplazando A:\n",
    "\n",
    "$$\n",
    "P_k = \\frac{\\left(A\\right)^k \\frac{1}{k!}}{\\sum_{n=0}^{k} \\left(A\\right)^n \\frac{1}{n!}}\n",
    "$$"
   ]
  },
  {
   "cell_type": "markdown",
   "id": "4ea66703",
   "metadata": {},
   "source": [
    "Se obtiene la formula de probabilidad de blouqeo. Ahora bien, cuando se presenta un número muy grande de servidores, surgen problemas computacionales debido al cálculo de factoriales grandes. Estos crecen exponencialmente y requieren una enorme cantidad de memoria y tiempo de ejecución, lo que puede causar desbordamientos o errores de precisión. Además, el cálculo de factoriales grandes es costoso y poco práctico a nivel computacional. Una solución común es utilizar una funcion recursiva, la cual se expresa de la siguiente manera:\n",
    "\n",
    "$$\n",
    "P_k = \\frac{A * P_{k-1}}{A * P_{k-1} + k}\n",
    "$$"
   ]
  },
  {
   "cell_type": "markdown",
   "id": "461bedd1",
   "metadata": {},
   "source": [
    "## *Segunda actividad*"
   ]
  },
  {
   "cell_type": "markdown",
   "id": "6fc72e5f",
   "metadata": {},
   "source": [
    "Diseñen y codifiquen en MATLAB una función que permita simular la cola asignada. Los\n",
    "parámetros de entrada de la función deben ser: un vector con los tiempos entre arribos\n",
    "consecutivos y un vector con los tiempos de servicio. El resultado de la simulación debe ser\n",
    "la estimación de la medida de desempeño."
   ]
  },
  {
   "cell_type": "markdown",
   "id": "f1f5d5fc",
   "metadata": {},
   "source": [
    "Para el desarrollo, se optó por implementar la simulacion en Python utilizando la libreria Simpy $(Insertar Referencia)$. Al realizar la prueba se pasaron los siguientes parametros de entrada:\n",
    "\n",
    "$k = 1$\n",
    "\n",
    "$tea = [1,2,3,7,2,3,8,0,5]$\n",
    "\n",
    "$tes = [9,1,4,1,1,5,3,8,2]$\n",
    "\n",
    "donde $k$ es el número de servidores, $tea$ el vector de tiempos entre arribos y $tes$ los tiempos de servicio. Asi se obtienen los siguientes resuldados:"
   ]
  },
  {
   "cell_type": "markdown",
   "id": "f4657924",
   "metadata": {},
   "source": [
    "<div style=\"text-align: center;\">\n",
    "\n",
    "  ![Figura 1: Diagrama de la cola Erlang B](../assets/Resultados_Erlang_B.png)\n",
    "  \n",
    "  <p><strong>Figura 3:</strong> Clientes Atendidos vs Bloqueados.</p>\n",
    "</div>"
   ]
  },
  {
   "cell_type": "markdown",
   "id": "5364e459-fb34-4edd-83da-31ebdcfcc5bd",
   "metadata": {},
   "source": [
    "### Diagrama de flujo del sistema de colas "
   ]
  },
  {
   "cell_type": "code",
   "execution_count": 20,
   "id": "b5d2afad-73b6-4485-b7f4-fc2072e7a4b4",
   "metadata": {},
   "outputs": [
    {
     "data": {
      "image/svg+xml": [
       "<?xml version=\"1.0\" encoding=\"UTF-8\" standalone=\"no\"?>\n",
       "<!DOCTYPE svg PUBLIC \"-//W3C//DTD SVG 1.1//EN\"\n",
       " \"http://www.w3.org/Graphics/SVG/1.1/DTD/svg11.dtd\">\n",
       "<!-- Generated by graphviz version 2.43.0 (0)\n",
       " -->\n",
       "<!-- Title: SistemaMMKK Pages: 1 -->\n",
       "<svg width=\"1080pt\" height=\"573pt\"\n",
       " viewBox=\"0.00 0.00 1080.00 572.70\" xmlns=\"http://www.w3.org/2000/svg\" xmlns:xlink=\"http://www.w3.org/1999/xlink\">\n",
       "<g id=\"graph0\" class=\"graph\" transform=\"scale(0.79 0.79) rotate(0) translate(4 721.69)\">\n",
       "<title>SistemaMMKK</title>\n",
       "<polygon fill=\"#f8f9fa\" stroke=\"transparent\" points=\"-4,4 -4,-721.69 1364.5,-721.69 1364.5,4 -4,4\"/>\n",
       "<text text-anchor=\"middle\" x=\"680.25\" y=\"-690.09\" font-family=\"Arial\" font-size=\"12.00\">Sistema de Colas M/M/K/K (Erlang B)</text>\n",
       "<g id=\"clust1\" class=\"cluster\">\n",
       "<title>cluster_metrics</title>\n",
       "<path fill=\"#fff9e6\" stroke=\"black\" d=\"M441.5,-143C441.5,-143 643.5,-143 643.5,-143 649.5,-143 655.5,-149 655.5,-155 655.5,-155 655.5,-337 655.5,-337 655.5,-343 649.5,-349 643.5,-349 643.5,-349 441.5,-349 441.5,-349 435.5,-349 429.5,-343 429.5,-337 429.5,-337 429.5,-155 429.5,-155 429.5,-149 435.5,-143 441.5,-143\"/>\n",
       "<text text-anchor=\"middle\" x=\"542.5\" y=\"-335.4\" font-family=\"Arial\" font-size=\"12.00\">Métricas Finales</text>\n",
       "</g>\n",
       "<g id=\"clust2\" class=\"cluster\">\n",
       "<title>cluster_legend</title>\n",
       "<polygon fill=\"#ecf0f1\" stroke=\"black\" points=\"395.5,-587.69 395.5,-674.69 1352.5,-674.69 1352.5,-587.69 395.5,-587.69\"/>\n",
       "<text text-anchor=\"middle\" x=\"874\" y=\"-647.09\" font-family=\"Arial\" font-size=\"12.00\">Sistema de Colas M/M/K/K (Erlang B)</text>\n",
       "</g>\n",
       "<!-- Start -->\n",
       "<g id=\"node1\" class=\"node\">\n",
       "<title>Start</title>\n",
       "<ellipse fill=\"#2ecc71\" stroke=\"black\" cx=\"272.5\" cy=\"-613.69\" rx=\"82.96\" ry=\"58.88\"/>\n",
       "<text text-anchor=\"middle\" x=\"272.5\" y=\"-639.99\" font-family=\"Times,serif\" font-size=\"14.00\">INICIO</text>\n",
       "<text text-anchor=\"middle\" x=\"272.5\" y=\"-624.99\" font-family=\"Times,serif\" font-size=\"14.00\">Configura:</text>\n",
       "<text text-anchor=\"middle\" x=\"272.5\" y=\"-609.99\" font-family=\"Times,serif\" font-size=\"14.00\">K servidores</text>\n",
       "<text text-anchor=\"middle\" x=\"272.5\" y=\"-594.99\" font-family=\"Times,serif\" font-size=\"14.00\">λ (llegadas/h)</text>\n",
       "<text text-anchor=\"middle\" x=\"272.5\" y=\"-579.99\" font-family=\"Times,serif\" font-size=\"14.00\">μ (servicios/h)</text>\n",
       "</g>\n",
       "<!-- Init -->\n",
       "<g id=\"node2\" class=\"node\">\n",
       "<title>Init</title>\n",
       "<path fill=\"#3498db\" stroke=\"black\" d=\"M331,-524C331,-524 214,-524 214,-524 208,-524 202,-518 202,-512 202,-512 202,-468 202,-468 202,-462 208,-456 214,-456 214,-456 331,-456 331,-456 337,-456 343,-462 343,-468 343,-468 343,-512 343,-512 343,-518 337,-524 331,-524\"/>\n",
       "<text text-anchor=\"middle\" x=\"272.5\" y=\"-508.8\" font-family=\"Times,serif\" font-size=\"14.00\">Inicializa:</text>\n",
       "<text text-anchor=\"middle\" x=\"272.5\" y=\"-493.8\" font-family=\"Times,serif\" font-size=\"14.00\">• Serv. libres = K</text>\n",
       "<text text-anchor=\"middle\" x=\"272.5\" y=\"-478.8\" font-family=\"Times,serif\" font-size=\"14.00\">• Reloj = 0</text>\n",
       "<text text-anchor=\"middle\" x=\"272.5\" y=\"-463.8\" font-family=\"Times,serif\" font-size=\"14.00\">• Contadores = 0</text>\n",
       "</g>\n",
       "<!-- Start&#45;&gt;Init -->\n",
       "<g id=\"edge1\" class=\"edge\">\n",
       "<title>Start&#45;&gt;Init</title>\n",
       "<path fill=\"none\" stroke=\"black\" stroke-dasharray=\"5,2\" d=\"M272.5,-554.7C272.5,-547.79 272.5,-540.83 272.5,-534.18\"/>\n",
       "<polygon fill=\"black\" stroke=\"black\" points=\"276,-534.03 272.5,-524.03 269,-534.03 276,-534.03\"/>\n",
       "</g>\n",
       "<!-- Time -->\n",
       "<g id=\"node3\" class=\"node\">\n",
       "<title>Time</title>\n",
       "<path fill=\"#3498db\" stroke=\"black\" d=\"M329,-425C329,-425 216,-425 216,-425 210,-425 204,-419 204,-413 204,-413 204,-399 204,-399 204,-393 210,-387 216,-387 216,-387 329,-387 329,-387 335,-387 341,-393 341,-399 341,-399 341,-413 341,-413 341,-419 335,-425 329,-425\"/>\n",
       "<text text-anchor=\"middle\" x=\"272.5\" y=\"-409.8\" font-family=\"Times,serif\" font-size=\"14.00\">Avanzar tiempo:</text>\n",
       "<text text-anchor=\"middle\" x=\"272.5\" y=\"-394.8\" font-family=\"Times,serif\" font-size=\"14.00\">t += Δt ~ exp(λ)</text>\n",
       "</g>\n",
       "<!-- Init&#45;&gt;Time -->\n",
       "<g id=\"edge2\" class=\"edge\">\n",
       "<title>Init&#45;&gt;Time</title>\n",
       "<path fill=\"none\" stroke=\"black\" stroke-dasharray=\"5,2\" d=\"M272.5,-455.65C272.5,-448.94 272.5,-441.96 272.5,-435.44\"/>\n",
       "<polygon fill=\"black\" stroke=\"black\" points=\"276,-435.05 272.5,-425.05 269,-435.05 276,-435.05\"/>\n",
       "</g>\n",
       "<!-- Arrival -->\n",
       "<g id=\"node4\" class=\"node\">\n",
       "<title>Arrival</title>\n",
       "<polygon fill=\"#f39c12\" stroke=\"black\" points=\"234.5,-296.5 105.64,-278.5 234.5,-260.5 363.36,-278.5 234.5,-296.5\"/>\n",
       "<text text-anchor=\"middle\" x=\"234.5\" y=\"-274.8\" font-family=\"Times,serif\" font-size=\"14.00\">¿Llegada cliente?</text>\n",
       "</g>\n",
       "<!-- Time&#45;&gt;Arrival -->\n",
       "<g id=\"edge3\" class=\"edge\">\n",
       "<title>Time&#45;&gt;Arrival</title>\n",
       "<path fill=\"none\" stroke=\"black\" stroke-dasharray=\"5,2\" d=\"M266.97,-386.75C260.53,-365.46 249.81,-330.07 242.47,-305.81\"/>\n",
       "<polygon fill=\"black\" stroke=\"black\" points=\"245.79,-304.72 239.55,-296.17 239.09,-306.75 245.79,-304.72\"/>\n",
       "</g>\n",
       "<!-- Results -->\n",
       "<g id=\"node9\" class=\"node\">\n",
       "<title>Results</title>\n",
       "<polygon fill=\"#fffacd\" stroke=\"black\" points=\"647,-320 438,-320 438,-237 647,-237 647,-320\"/>\n",
       "<text text-anchor=\"middle\" x=\"542.5\" y=\"-304.8\" font-family=\"Times,serif\" font-size=\"14.00\">Resultados:</text>\n",
       "<text text-anchor=\"middle\" x=\"542.5\" y=\"-289.8\" font-family=\"Times,serif\" font-size=\"14.00\"> &#160;&#160;&#160;&#45; Atendidos: A</text>\n",
       "<text text-anchor=\"middle\" x=\"542.5\" y=\"-274.8\" font-family=\"Times,serif\" font-size=\"14.00\"> &#160;&#160;&#160;&#45; Rechazados: R</text>\n",
       "<text text-anchor=\"middle\" x=\"542.5\" y=\"-259.8\" font-family=\"Times,serif\" font-size=\"14.00\"> &#160;&#160;&#160;&#45; Prob. bloqueo: R/(A+R)</text>\n",
       "<text text-anchor=\"middle\" x=\"542.5\" y=\"-244.8\" font-family=\"Times,serif\" font-size=\"14.00\"> &#160;&#160;&#160;&#45; Ocupación: A/(A+R)</text>\n",
       "</g>\n",
       "<!-- Time&#45;&gt;Results -->\n",
       "<g id=\"edge11\" class=\"edge\">\n",
       "<title>Time&#45;&gt;Results</title>\n",
       "<path fill=\"none\" stroke=\"black\" d=\"M341.17,-396.02C366.86,-391.05 395.78,-383.46 420.5,-372 445.41,-360.45 470.08,-343.17 490.65,-326.65\"/>\n",
       "<polygon fill=\"black\" stroke=\"black\" points=\"493.09,-329.17 498.61,-320.13 488.66,-323.76 493.09,-329.17\"/>\n",
       "<text text-anchor=\"middle\" x=\"498\" y=\"-360.8\" font-family=\"Times,serif\" font-size=\"14.00\">Fin simulación</text>\n",
       "</g>\n",
       "<!-- Arrival&#45;&gt;Time -->\n",
       "<g id=\"edge5\" class=\"edge\">\n",
       "<title>Arrival&#45;&gt;Time</title>\n",
       "<path fill=\"none\" stroke=\"black\" stroke-dasharray=\"5,2\" d=\"M229.87,-296.12C225.45,-315.38 220.99,-347.59 232.5,-372 233.64,-374.42 235.06,-376.73 236.67,-378.91\"/>\n",
       "<polygon fill=\"black\" stroke=\"black\" points=\"234.4,-381.62 243.69,-386.71 239.6,-376.93 234.4,-381.62\"/>\n",
       "<text text-anchor=\"middle\" x=\"243\" y=\"-360.8\" font-family=\"Times,serif\" font-size=\"14.00\">No</text>\n",
       "</g>\n",
       "<!-- Check -->\n",
       "<g id=\"node5\" class=\"node\">\n",
       "<title>Check</title>\n",
       "<polygon fill=\"#f39c12\" stroke=\"black\" points=\"227.5,-189.5 85.9,-171.5 227.5,-153.5 369.1,-171.5 227.5,-189.5\"/>\n",
       "<text text-anchor=\"middle\" x=\"227.5\" y=\"-167.8\" font-family=\"Times,serif\" font-size=\"14.00\">¿Servidores libres?</text>\n",
       "</g>\n",
       "<!-- Arrival&#45;&gt;Check -->\n",
       "<g id=\"edge4\" class=\"edge\">\n",
       "<title>Arrival&#45;&gt;Check</title>\n",
       "<path fill=\"none\" stroke=\"black\" d=\"M233.38,-260.63C232.28,-244.2 230.6,-218.94 229.31,-199.67\"/>\n",
       "<polygon fill=\"black\" stroke=\"black\" points=\"232.8,-199.42 228.65,-189.68 225.82,-199.89 232.8,-199.42\"/>\n",
       "<text text-anchor=\"middle\" x=\"239\" y=\"-210.8\" font-family=\"Times,serif\" font-size=\"14.00\">Sí</text>\n",
       "</g>\n",
       "<!-- Assign -->\n",
       "<g id=\"node6\" class=\"node\">\n",
       "<title>Assign</title>\n",
       "<path fill=\"#27ae60\" stroke=\"black\" d=\"M336.5,-105C336.5,-105 220.5,-105 220.5,-105 214.5,-105 208.5,-99 208.5,-93 208.5,-93 208.5,-79 208.5,-79 208.5,-73 214.5,-67 220.5,-67 220.5,-67 336.5,-67 336.5,-67 342.5,-67 348.5,-73 348.5,-79 348.5,-79 348.5,-93 348.5,-93 348.5,-99 342.5,-105 336.5,-105\"/>\n",
       "<text text-anchor=\"middle\" x=\"278.5\" y=\"-89.8\" font-family=\"Times,serif\" font-size=\"14.00\">Asignar servidor:</text>\n",
       "<text text-anchor=\"middle\" x=\"278.5\" y=\"-74.8\" font-family=\"Times,serif\" font-size=\"14.00\">Tiempo ~ exp(μ)</text>\n",
       "</g>\n",
       "<!-- Check&#45;&gt;Assign -->\n",
       "<g id=\"edge6\" class=\"edge\">\n",
       "<title>Check&#45;&gt;Assign</title>\n",
       "<path fill=\"none\" stroke=\"black\" d=\"M237.33,-154.4C244.34,-142.93 253.93,-127.23 262.09,-113.87\"/>\n",
       "<polygon fill=\"black\" stroke=\"black\" points=\"265.23,-115.44 267.46,-105.08 259.26,-111.79 265.23,-115.44\"/>\n",
       "<text text-anchor=\"middle\" x=\"266\" y=\"-123.8\" font-family=\"Times,serif\" font-size=\"14.00\">Sí</text>\n",
       "</g>\n",
       "<!-- Reject -->\n",
       "<g id=\"node8\" class=\"node\">\n",
       "<title>Reject</title>\n",
       "<path fill=\"#c0392b\" stroke=\"black\" d=\"M133,-105C133,-105 12,-105 12,-105 6,-105 0,-99 0,-93 0,-93 0,-79 0,-79 0,-73 6,-67 12,-67 12,-67 133,-67 133,-67 139,-67 145,-73 145,-79 145,-79 145,-93 145,-93 145,-99 139,-105 133,-105\"/>\n",
       "<text text-anchor=\"middle\" x=\"72.5\" y=\"-89.8\" font-family=\"Times,serif\" font-size=\"14.00\">Cliente rechazado</text>\n",
       "<text text-anchor=\"middle\" x=\"72.5\" y=\"-74.8\" font-family=\"Times,serif\" font-size=\"14.00\">(Contar bloqueo)</text>\n",
       "</g>\n",
       "<!-- Check&#45;&gt;Reject -->\n",
       "<g id=\"edge7\" class=\"edge\">\n",
       "<title>Check&#45;&gt;Reject</title>\n",
       "<path fill=\"none\" stroke=\"black\" stroke-dasharray=\"5,2\" d=\"M201.9,-156.71C178.34,-144.02 142.93,-124.94 115.11,-109.95\"/>\n",
       "<polygon fill=\"black\" stroke=\"black\" points=\"116.46,-106.7 105.99,-105.04 113.14,-112.87 116.46,-106.7\"/>\n",
       "<text text-anchor=\"middle\" x=\"170\" y=\"-123.8\" font-family=\"Times,serif\" font-size=\"14.00\">No</text>\n",
       "</g>\n",
       "<!-- Release -->\n",
       "<g id=\"node7\" class=\"node\">\n",
       "<title>Release</title>\n",
       "<path fill=\"#27ae60\" stroke=\"black\" d=\"M395,-36C395,-36 286,-36 286,-36 280,-36 274,-30 274,-24 274,-24 274,-12 274,-12 274,-6 280,0 286,0 286,0 395,0 395,0 401,0 407,-6 407,-12 407,-12 407,-24 407,-24 407,-30 401,-36 395,-36\"/>\n",
       "<text text-anchor=\"middle\" x=\"340.5\" y=\"-14.3\" font-family=\"Times,serif\" font-size=\"14.00\">Liberar servidor</text>\n",
       "</g>\n",
       "<!-- Assign&#45;&gt;Release -->\n",
       "<g id=\"edge8\" class=\"edge\">\n",
       "<title>Assign&#45;&gt;Release</title>\n",
       "<path fill=\"none\" stroke=\"black\" stroke-dasharray=\"5,2\" d=\"M295.44,-66.97C302.22,-59.75 310.13,-51.33 317.42,-43.57\"/>\n",
       "<polygon fill=\"black\" stroke=\"black\" points=\"320.14,-45.79 324.43,-36.1 315.03,-41 320.14,-45.79\"/>\n",
       "</g>\n",
       "<!-- Release&#45;&gt;Time -->\n",
       "<g id=\"edge9\" class=\"edge\">\n",
       "<title>Release&#45;&gt;Time</title>\n",
       "<path fill=\"none\" stroke=\"black\" stroke-dasharray=\"5,2\" d=\"M371.26,-36.26C387.25,-47.71 403.5,-64.41 403.5,-85 403.5,-279.5 403.5,-279.5 403.5,-279.5 403.5,-312.97 396.87,-324.1 374.5,-349 362.25,-362.63 345.88,-373.63 329.84,-382.15\"/>\n",
       "<polygon fill=\"black\" stroke=\"black\" points=\"327.82,-379.26 320.47,-386.89 330.98,-385.5 327.82,-379.26\"/>\n",
       "</g>\n",
       "<!-- Reject&#45;&gt;Time -->\n",
       "<g id=\"edge10\" class=\"edge\">\n",
       "<title>Reject&#45;&gt;Time</title>\n",
       "<path fill=\"none\" stroke=\"black\" stroke-dasharray=\"5,2\" d=\"M67.71,-105.16C56.59,-151.78 34.33,-277.04 94.5,-349 118.91,-378.19 158.39,-392.39 193.97,-399.2\"/>\n",
       "<polygon fill=\"black\" stroke=\"black\" points=\"193.44,-402.66 203.89,-400.93 194.64,-395.76 193.44,-402.66\"/>\n",
       "</g>\n",
       "<!-- ErlangB -->\n",
       "<g id=\"node10\" class=\"node\">\n",
       "<title>ErlangB</title>\n",
       "<polygon fill=\"#1abc9c\" stroke=\"black\" points=\"638,-192 447,-192 447,-151 638,-151 638,-192\"/>\n",
       "<text text-anchor=\"middle\" x=\"542.5\" y=\"-180\" font-family=\"Courier,monospace\" font-size=\"10.00\">Erlang B:</text>\n",
       "<text text-anchor=\"middle\" x=\"542.5\" y=\"-169\" font-family=\"Courier,monospace\" font-size=\"10.00\"> &#160;&#160;&#160;B(E,K) = (Eᴷ/K!)/Σ(Eⁱ/i!)</text>\n",
       "<text text-anchor=\"middle\" x=\"542.5\" y=\"-158\" font-family=\"Courier,monospace\" font-size=\"10.00\"> &#160;&#160;&#160;E = λ/μ (Erlangs)</text>\n",
       "</g>\n",
       "<!-- Results&#45;&gt;ErlangB -->\n",
       "<g id=\"edge12\" class=\"edge\">\n",
       "<title>Results&#45;&gt;ErlangB</title>\n",
       "<path fill=\"none\" stroke=\"black\" stroke-dasharray=\"5,2\" d=\"M542.5,-236.9C542.5,-225.39 542.5,-213.07 542.5,-202.32\"/>\n",
       "<polygon fill=\"black\" stroke=\"black\" points=\"546,-202.19 542.5,-192.19 539,-202.19 546,-202.19\"/>\n",
       "</g>\n",
       "<!-- L0 -->\n",
       "<g id=\"node11\" class=\"node\">\n",
       "<title>L0</title>\n",
       "<text text-anchor=\"middle\" x=\"1303.5\" y=\"-609.99\" font-family=\"Times,serif\" font-size=\"14.00\" fill=\"#2c3e50\">Leyenda:</text>\n",
       "</g>\n",
       "<!-- L1 -->\n",
       "<g id=\"node12\" class=\"node\">\n",
       "<title>L1</title>\n",
       "<text text-anchor=\"middle\" x=\"1193.5\" y=\"-609.99\" font-family=\"Times,serif\" font-size=\"14.00\">◼ M/M/K/K</text>\n",
       "</g>\n",
       "<!-- L2 -->\n",
       "<g id=\"node13\" class=\"node\">\n",
       "<title>L2</title>\n",
       "<text text-anchor=\"middle\" x=\"1044.5\" y=\"-609.99\" font-family=\"Times,serif\" font-size=\"14.00\">◼ λ = Tasa llegadas</text>\n",
       "</g>\n",
       "<!-- L3 -->\n",
       "<g id=\"node14\" class=\"node\">\n",
       "<title>L3</title>\n",
       "<text text-anchor=\"middle\" x=\"865.5\" y=\"-609.99\" font-family=\"Times,serif\" font-size=\"14.00\">◼ μ = Tasa servicio</text>\n",
       "</g>\n",
       "<!-- L4 -->\n",
       "<g id=\"node15\" class=\"node\">\n",
       "<title>L4</title>\n",
       "<text text-anchor=\"middle\" x=\"695.5\" y=\"-609.99\" font-family=\"Times,serif\" font-size=\"14.00\">◼ K = Servidores</text>\n",
       "</g>\n",
       "<!-- L5 -->\n",
       "<g id=\"node16\" class=\"node\">\n",
       "<title>L5</title>\n",
       "<text text-anchor=\"middle\" x=\"503.5\" y=\"-609.99\" font-family=\"Times,serif\" font-size=\"14.00\">◼ B(E,K) = Prob. bloqueo</text>\n",
       "</g>\n",
       "</g>\n",
       "</svg>\n"
      ],
      "text/plain": [
       "<graphviz.graphs.Digraph at 0x7bb6e9217d10>"
      ]
     },
     "execution_count": 20,
     "metadata": {},
     "output_type": "execute_result"
    }
   ],
   "source": [
    "generate_mmkk_diagram()"
   ]
  },
  {
   "cell_type": "markdown",
   "id": "456fd706",
   "metadata": {},
   "source": [
    "## *Tercera actividad*"
   ]
  },
  {
   "cell_type": "markdown",
   "id": "bac1aca8",
   "metadata": {},
   "source": [
    "Realicen la simulación de la cola asignada, variando $A = λ/µ$. Consideren que los elementos del vector de tiempos entre arribos consecutivos se distribuyen exponencialmente, con\n",
    "parámetro $λ$; y que los elementos del vector de tiempos de servicio se distribuyen exponencialmente, con parámetro $µ$. Como resultado principal, realicen la gráfica de la medida\n",
    "de desempeño versus A. Verifiquen que los resultados de simulación coincidan con el valor\n",
    "teórico de la medida de desempeño.\n",
    "\n",
    "Para validar el comportamiento del modelo de Erlang B, se implementó una simulación de eventos discretos en Python utilizando la bilbioteca simpy. Se comparó la probabilidad teórica de bloqueo $P_k$ con los resultados obtenidos empíricamente.\n",
    "\n",
    "### Función teórica\n",
    "\n",
    "Se utilizó la fórmula recursiva de Erlang-B para calcular la probabilidad de bloqueo y asi generar el correspondiente algoritmo para el cálculo de la probabilidad de bloqueo teórica del sistema:\n",
    "\n",
    "$$\n",
    "P_k = \\frac{A * P_{k-1}}{A * P_{k-1} + k}\n",
    "$$\n",
    "\n",
    "Donde $A=\\frac{\\lambda}{\\mu}$ es la carga ofrecida al sistema\n",
    "\n",
    "```python\n",
    "def bloqueo_erlang_b(K, l, m): \n",
    "    A= l / m\n",
    "    B = 1.0\n",
    "    for k in range(1, K + 1):\n",
    "        B = (A * B) / (k + A * B)\n",
    "    return B\n",
    "```\n",
    "\n",
    "\n",
    "### Simulación\n",
    "\n",
    "Se generaron tiempos de llegada y servicio según distribuciones exponenciales con tasas \n",
    "λ y μ. Se modeló un recurso con capacidad limitada y se contabilizaron los clientes bloqueados.\n",
    "\n",
    "Se realizó la evaluación comparativa para un sistema con $k = 10$ servidores, tasa de llegada $\\lambda = 8$ y distintos valores de la tasa de servicio $\\mu$, modificando asi la carga ofrecida $A=\\lambda / \\mu$\n",
    "\n",
    "La fracción de clientes bloqueados se calculó como:\n",
    "\n",
    "$$\n",
    "    \\hat{P_k} = \\frac{clientes bloqueados}{total clientes}\n",
    "$$\n",
    "\n",
    "### $A \\leq k$\n",
    "\n",
    "Al analizar el comportamiento del sistema para $A \\leq k$ se observa una probabilidad de bloqueo baja para cargas pequeñas y un crecimiento exponencial a medida que $A$ se aproxima a $k$. Las simulaciones, representadas por puntos rojos, muestran buena concordancia con la curva teórica azul, validando el modelo mediante eventos generados con simpy.\n",
    "\n",
    "<div style=\"text-align: center;\">\n",
    "\n",
    "  ![Figura 1: Diagrama de la cola Erlang B](../assets/resultadosAct3.png)\n",
    "  \n",
    "  <p><strong>Figura 4:</strong> Simulación A≤k.</p>\n",
    "</div>\n",
    "\n",
    "### $A \\geq k$\n",
    "\n",
    "En la segunda parte, con $A≥k$, se observa que la probabilidad de bloqueo se incrementa rápidamente hasta saturar el sistema, alcanzando valores cercanos a 1. Nuevamente, las simulaciones siguen adecuadamente la predicción teórica.\n",
    "\n",
    "<div style=\"text-align: center;\">\n",
    "\n",
    "  ![Figura 1: Diagrama de la cola Erlang B](../assets/resultadosAct3-2.png)\n",
    "  \n",
    "  <p><strong>Figura 5:</strong> Simulación A≥k.</p>\n",
    "</div>\n",
    "\n",
    "Los resultados muestran que la simulación sigue de cerca la curva teórica en ambos rangos: cuando $A \\leq k$, y cuando $A \\geq k$, lo cual valida la aproximación teórica del modelo Erlang B en entornos sin cola.\n",
    "\n"
   ]
  },
  {
   "cell_type": "markdown",
   "id": "08f937da",
   "metadata": {},
   "source": [
    "## *Cuarta actividad*"
   ]
  },
  {
   "cell_type": "markdown",
   "id": "c123b70a",
   "metadata": {},
   "source": [
    "Utilicen la función superfuncion (que hará parte de una tarea futura), para generar cuatro funciones asociadas al conjunto de datos suministrados en clase. Muestren evidencias de la validez de sus funciones (comparación de las gráficas de las distribuciones de los datos y gráficas qqplot, por ejemplo).\n",
    "\n",
    "Como primer paso, se optó por homologar la funcion \"superfunción\" a Python, con el fin de generar cada una de las 4 funciones asociadas a cada archivo \n",
    "\n",
    "```python\n",
    "# BCpAug89\n",
    "datosAug = np.loadtxt(\"./../BCpAug89.TL\")\n",
    "muestraAgosto = np.diff(datosAug[:, 0])\n",
    "\n",
    "# BCpOct89\n",
    "datosOct = np.loadtxt(\"./../BCpOct89.TL\")\n",
    "muestraOctubre = np.diff(datosOct[:, 0])\n",
    "\n",
    "# BCOct89Ext\n",
    "datosOctExt = np.loadtxt(\"./../BCOct89Ext.TL\")\n",
    "muestraOctubreExt = np.diff(datosOctExt[:, 0])\n",
    "\n",
    "# BCOct89Ext4\n",
    "datosOctExt4 = np.loadtxt(\"./../BCOct89Ext4.TL\")\n",
    "muestraOctubreExt4 = np.diff(datosOctExt4[:, 0])\n",
    "\n",
    "superfuncion(muestraAgosto, \"agostoAleatorio\")\n",
    "superfuncion(muestraOctubre, \"octubreAleatorio\")\n",
    "superfuncion(muestraOctubreExt, \"octubreExtAleatorio\")\n",
    "superfuncion(muestraOctubreExt4, \"octubreExt4Aleatorio\")\n",
    "```\n",
    "\n",
    "Realizando la grafica de la cdf y pdf correspondientes a cada muestra se obtuvo lo siguiete: \n",
    "\n",
    "### Muestra Agosto\n",
    "\n",
    "<div style=\"text-align: center;\">\n",
    "\n",
    "  ![Figura 1: Diagrama de la cola Erlang B](../assets/Agostopdfcdf.png)\n",
    "  \n",
    "  <p><strong>Figura 6:</strong> pdf y cdf Agosto.</p>\n",
    "</div>\n",
    "\n",
    "### Muestra Octubre\n",
    "\n",
    "<div style=\"text-align: center;\">\n",
    "\n",
    "  ![Figura 1: Diagrama de la cola Erlang B](../assets/Octubrepdfcdf.png)\n",
    "  \n",
    "   <p><strong>Figura 7:</strong> pdf y cdf Octubre.</p>\n",
    "</div>\n",
    "\n",
    "### Muestra OctubreExt\n",
    "\n",
    "<div style=\"text-align: center;\">\n",
    "\n",
    "  ![Figura 1: Diagrama de la cola Erlang B](../assets/OctubreExtpdfcdf.png)\n",
    "    <p><strong>Figura 8:</strong> pdf y cdf OctubreExt.</p>\n",
    "</div>\n",
    "\n",
    "### Muestra OctubreExt4\n",
    "\n",
    "<div style=\"text-align: center;\">\n",
    "\n",
    "  ![Figura 1: Diagrama de la cola Erlang B](../assets/OctubreExt4pdfcdf.png)\n",
    "  <p><strong>Figura 9:</strong> pdf y cdf OctubreExt4.</p>\n",
    "</div>\n",
    "\n",
    "Luego, se validan las distribuciones generadas por las funciones y las muestras originales con una QQplot:\n",
    "\n",
    "### QQPlot Agosto\n",
    "\n",
    "<div style=\"text-align: center;\">\n",
    "\n",
    "  ![Figura 1: Diagrama de la cola Erlang B](../assets/QQplotAgosto.png)\n",
    "  \n",
    "   <p><strong>Figura 10:</strong> QQplot Agosto.</p>\n",
    "</div>\n",
    "\n",
    "### QQPlot Octubre\n",
    "\n",
    "<div style=\"text-align: center;\">\n",
    "\n",
    "  ![Figura 1: Diagrama de la cola Erlang B](../assets/QQplotOctubre.png)\n",
    "  \n",
    "  <p><strong>Figura 11:</strong> QQplot Octubre.</p>\n",
    "</div>\n",
    "\n",
    "### QQPlot OctubreExt\n",
    "\n",
    "<div style=\"text-align: center;\">\n",
    "\n",
    "  ![Figura 1: Diagrama de la cola Erlang B](../assets/QQplotOctubreExt.png)\n",
    "  \n",
    "  <p><strong>Figura 12:</strong> QQplot OctubreExt.</p>\n",
    "</div>\n",
    "\n",
    "### QQPlot OctubreExt4\n",
    "\n",
    "<div style=\"text-align: center;\">\n",
    "\n",
    "  ![Figura 1: Diagrama de la cola Erlang B](../assets/QQplotOctubreExt4.png)\n",
    "      <p><strong>Figura 13:</strong> QQplot OctubreExt4.</p>\n",
    "\n",
    "</div>\n"
   ]
  },
  {
   "cell_type": "markdown",
   "id": "be54add2",
   "metadata": {},
   "source": [
    "## *Quinta actividad*"
   ]
  },
  {
   "cell_type": "markdown",
   "id": "e0a96bc0",
   "metadata": {},
   "source": [
    "Realicen la simulación de la cola asignada variando A = λ/µ. Consideren que los elementos del vector de tiempos entre arribos consecutivos, se obtienen con cada una de las cuatro funciones de la cuarta actividad (para cada función consideren que el parámetro λ, se estima con el inverso multiplicativo de la media aritmética de los elementos del vector generado con cada una de las cuatro funciones: λ ≈ 1/$T_{arribo}$), y que los elementos del vector de tiempos de servicio se distribuyen exponencialmente, con parámetro µ. Como resultado principal, realicen las cuatro gráficas de la medida de desempeño versus A. Comparen los resultados de simulación con el valor teórico (para distribuciones exponenciales) de la medida de desempeño.\n",
    "\n",
    "### 1. Se utilizaron cuatro conjuntos de datos provenientes de las funciones de la cuarta actividad:\n",
    "\n",
    "```python\n",
    "import numpy as np\n",
    "if m == 1:\n",
    "    return np.transpose(np.random.choice(numero, (n,)))\n",
    "else:\n",
    "    return np.random.choice(numero, (m, n))\n",
    "\n",
    "```\n",
    "\n",
    "### Comparación entre la simulación y el modelo de Erlang-B\n",
    "\n",
    "Con el objetivo de validar la coherencia de la simulación del sistema M/M/K/K frente a su expresión teórica (modelo de Erlang-B), se realizaron dos experimentos, diferenciando los casos en los que el parámetro de tráfico $A = \\frac{\\lambda}{\\mu}$ es **menor o igual que $k$** y cuando es **mayor que $k$**.\n",
    "\n",
    "Se generaron 100 valores equiespaciados de $A$ en cada intervalo y, para cada valor, se ajustó $\\mu$ manteniendo constante $\\lambda$, la cual fue estimada como el inverso de la media de los tiempos entre arribos generados a partir de los datos reales.\n",
    "\n",
    "En cada simulación:\n",
    "- Se generaron 1 millón de arribos usando la función aleatoria.\n",
    "- Los tiempos de servicio se generaron a partir de una distribución exponencial con media $1/\\mu$.\n",
    "- Se registraron las tasas de bloqueo, es decir, la proporción de clientes que llegaron y encontraron todos los servidores ocupados.\n",
    "\n",
    "Los resultados se compararon contra la probabilidad teórica de bloqueo calculada mediante la fórmula de Erlang-B. Se graficaron ambas curvas (teórica y simulada) para observar el grado de coincidencia.\n",
    "\n",
    "### Agosto Aleatorio\n",
    "\n",
    "<div style=\"text-align: center;\">\n",
    "\n",
    "  ![Figura 1: Diagrama de la cola Erlang B](../assets/resultadosAgosto1.png)\n",
    "  \n",
    "  <p><strong>Figura 14:</strong> Agosto Aleatorio teórico y simulacion A≤k .</p>\n",
    "</div>\n",
    "\n",
    "<div style=\"text-align: center;\">\n",
    "\n",
    "  ![Figura 1: Diagrama de la cola Erlang B](../assets/resultadosAgosto2.png)\n",
    "  \n",
    "   <p><strong>Figura 15:</strong> Agosto Aleatorio teórico y simulacion A≥k .</p>\n",
    "</div>\n",
    "\n",
    "\n",
    "### Octubre Aleatorio\n",
    "\n",
    "<div style=\"text-align: center;\">\n",
    "\n",
    "  ![Figura 1: Diagrama de la cola Erlang B](../assets/resultadosOctubre1.png)\n",
    "  \n",
    "  <p><strong>Figura 16:</strong> Octubre Aleatorio teórico y simulacion A≤k .</p>\n",
    "</div>\n",
    "\n",
    "<div style=\"text-align: center;\">\n",
    "\n",
    "  ![Figura 1: Diagrama de la cola Erlang B](../assets/resultadosOctubre2.png)\n",
    "  \n",
    "  <p><strong>Figura 17:</strong> Octubre Aleatorio teórico y simulacion A≥k .</p>\n",
    "</div>\n",
    "\n",
    "### OctubreExt Aleatorio\n",
    "\n",
    "<div style=\"text-align: center;\">\n",
    "\n",
    "  ![Figura 1: Diagrama de la cola Erlang B](../assets/resultadosOctubreExt1.png)\n",
    "  \n",
    "  <p><strong>Figura 18:</strong> OctubreExt Aleatorio teórico y simulacion A≤k .</p>\n",
    "</div>\n",
    "\n",
    "<div style=\"text-align: center;\">\n",
    "\n",
    "  ![Figura 1: Diagrama de la cola Erlang B](../assets/resultadosOctubreExt2.png)\n",
    "  \n",
    "  <p><strong>Figura 19:</strong> OctubreExt Aleatorio teórico y simulacion A≥k .</p>\n",
    "</div>\n",
    "\n",
    "### OctubreExt4 Aleatorio\n",
    "\n",
    "<div style=\"text-align: center;\">\n",
    "\n",
    "  ![Figura 1: Diagrama de la cola Erlang B](../assets/resultadosOctubreExt4-1.png)\n",
    "  \n",
    "  <p><strong>Figura 20:</strong> OctubreExt4 Aleatorio teórico y simulacion A≤k .</p>\n",
    "</div>\n",
    "\n",
    "<div style=\"text-align: center;\">\n",
    "\n",
    "  ![Figura 1: Diagrama de la cola Erlang B](../assets/resultadosOctubreExt4-2.png)\n",
    "  \n",
    "  <p><strong>Figura 21:</strong> OctubreExt4 Aleatorio teórico y simulacion A≥k .</p>\n",
    "</div>\n"
   ]
  },
  {
   "cell_type": "markdown",
   "id": "6a6c9f6a-b066-46a9-9305-2c8fce548299",
   "metadata": {},
   "source": [
    "## *Sexta actividad*"
   ]
  },
  {
   "cell_type": "markdown",
   "id": "4541b951-6db5-4121-9eed-629f8b08c398",
   "metadata": {},
   "source": [
    "Los modelos Erlang se han utilizado en el ámbito de las telecomunicaciones y la investigación operativa durante casi un siglo. AK Erlang , ingeniero telefónico danés, desarrolló estos modelos para planificar la capacidad de la red telefónica y predecir la calidad del servicio garantizado, basándose en métricas básicas sobre el volumen y la duración de las llamadas.\n",
    "\n",
    "Los modelos Erlang se utilizan ampliamente en telecomunicaciones, incluyendo el dimensionamiento de redes GPRS, el dimensionamiento de líneas troncales, los modelos de dotación de personal de centros de llamadas y otros ámbitos de planificación de capacidad donde la llegada de solicitudes es aparentemente aleatoria."
   ]
  },
  {
   "cell_type": "markdown",
   "id": "b9e553d0-ef35-4032-915d-28a090f70f79",
   "metadata": {},
   "source": [
    "La aplicabilidad de la cola tipo Erlang B se ve mayormente en el campo de las telecomunicaciones debido a la naturaleza para la cual fue creado este método, sin embargo, existen múltiples aplicaciones en el campo de ingeniería y la informática. La clave de su versatilidad radica en la abstracción del concepto de \"servidor\", que puede representar una variedad de recursos limitados en los sistemas informáticos. \n",
    "\n",
    "Resulta bastante obvio que los modelos Erlang también son ampliamente aplicables al análisis del rendimiento informático. Existe una amplia literatura sobre este tema que se remonta a los inicios del mainframe. Los modelos Erlang son la base de la mayoría de los grupos de gestión de capacidad[1].\n",
    "\n",
    "El modelo Erlang B puede utilizarse para estimar la capacidad de manejo de solicitudes concurrentes de un servidor web. En este contexto, los \"servidores\" del modelo Erlang B son los hilos (threads) de trabajo o procesos del servidor web disponibles para atender las solicitudes HTTP entrantes. Si todas estas unidades de procesamiento están ocupadas y no existe una cola de espera (o esta es muy limitada y se llena rápidamente), las nuevas solicitudes pueden ser rechazadas, generando errores como \"503 Service Unavailable\".\n",
    "\n",
    "Si el pool de hilos está configurado para rechazar nuevas tareas cuando todos los hilos están ocupados (en lugar de encolarlas indefinidamente), el modelo Erlang B puede calcular la probabilidad de este rechazo.\n",
    "\n",
    "Por ejemplo, consideremos un servicio web que procesa tareas. Si se conoce la tasa de llegada de tareas y el tiempo promedio que un hilo tarda en procesar una tarea, se puede calcular el tráfico ofrecido en Erlangs. Luego, utilizando la fórmula Erlang B, se puede determinar la probabilidad de que una tarea sea rechazada para un tamaño de pool de hilos dado, o, inversamente, calcular el tamaño del pool de hilos necesario para alcanzar una probabilidad de rechazo objetivo. Esto es crucial para el ajuste del rendimiento en software multihilo, asegurando que el sistema pueda manejar la carga esperada sin una tasa de rechazo excesiva.\n",
    "\n",
    "La siguiente tabla ilustra un ejemplo de aplicación de Erlang B para el dimensionamiento de un pool de hilos para conexiones a un servidor web: "
   ]
  },
  {
   "cell_type": "markdown",
   "id": "99992f57-f2f0-45b6-a28e-cd93fba5253c",
   "metadata": {},
   "source": [
    "| Parámetro        | Descripción           | Procesamiento de Tareas de Servicio Web  | Observaciones |\n",
    "| ------------- |:-------------|:-----:| :-------------|\n",
    "| Tasa de Llegada (λ) | Número medio de tareas que llegan por unidad de tiempo. | 100 tareas/segundo | Debe medirse o estimarse para la \"hora pico\". |\n",
    "| Tiempo Medio de Servicio (h o 1/μ) | Tiempo medio que un hilo tarda en procesar una tarea.      |   0.05 segundos/tarea (50 ms)| Asegurar que esto refleje el tiempo real de procesamiento, no incluyendo el tiempo potencial de espera en cola (si existiera una cola antes del rechazo). |\n",
    "| Tráfico Ofrecido (A o E=λ×h) | Carga de trabajo total ofrecida al sistema en Erlangs. | 100 tareas/s × 0.05 s/tarea = 5 Erlangs | Este es el tráfico que el pool procesaría si tuviera un número infinito de hilos. |\n",
    "| Número de Hilos (c o m) | Número de hilos de trabajo concurrentes en el pool. | A determinar (p. ej., probar c=7) | Esta es la variable que a menudo se quiere resolver, o se prueban diferentes valores. |\n",
    "| Probabilidad de Bloqueo Objetivo ($P_B$ o GoS) | Porcentaje máximo deseado de tareas a ser rechazadas. | 0.01 (1% de bloqueo) | Requisito de negocio/rendimiento. Un $P_B$ más bajo requiere más hilos para el mismo tráfico.|\n",
    "| $P_B$ Calculada (usando fórmula Erlang B) | Probabilidad resultante de rechazo de tareas. | Para A=5 Erlangs, c=7 hilos, $P_B$ ≈0.077 (7.7%) (Valor de una calculadora Erlang B) | Si 7.7% es demasiado alto, aumentar 'c'. Para A=5, $P_B$ =0.01, 'c' necesitaría ser alrededor de 10-11 hilos. (Calculado usando una calculadora Erlang B estándar con A=5, $P_B$=0.01 resulta en c=10). |\n",
    "\n",
    "  <p><strong>Tabla 2:</strong> Ejemplo de aplicación.</p>"
   ]
  },
  {
   "cell_type": "markdown",
   "id": "1d445907-885c-4a9e-81fe-47cb5d2af4aa",
   "metadata": {},
   "source": [
    "## *Conclusiones*"
   ]
  },
  {
   "cell_type": "markdown",
   "id": "ea2c0e30-1750-4bbd-bca0-e494db1856b3",
   "metadata": {},
   "source": [
    "La teoría de colas busca analizar y optimizar los sistemas de servicio para mejorar la eficiencia y la rentabilidad. El objetivo fundamental es comprender la dinámica de la formación de colas para poder diseñar sistemas que minimicen los tiempos de espera, optimicen la utilización de recursos y, en última instancia, mejoren la experiencia del usuario o cliente. La capacidad de analizar matemáticamente las líneas de espera permite estudiar factores como el tiempo medio de espera o la capacidad máxima de un sistema antes de que colapse[2].\n",
    "\n",
    "Además, Erlang B no solo sirve para calcular el número de recursos, sino que también facilita implícitamente un análisis de costo-beneficio. Cada servidor adicional (hilo, licencia, conexión) reduce la probabilidad de bloqueo pero incurre en un costo. Erlang B ayuda a encontrar un punto de equilibrio basado en un Grado de Servicio aceptable, cuantificando el compromiso entre el costo de los recursos y el costo de un servicio deficiente o solicitudes perdidas. La flexibilidad del modelo Erlang B, donde los \"servidores\" pueden ser una abstracción de recursos físicos, lógicos o conceptuales, es una de las razones de su amplia aplicabilidad en la informática. \n",
    "\n",
    "Pudimos apreciar en la actividad 5 que aunque ambas curvas muestran una tendencia creciente coherente con el modelo Erlang-B, la simulación presenta una sobreestimación de la probabilidad de bloqueo, particularmente cuando $A$ se aproxima al número de servidores $k$. Esta diferencia puede atribuirse a factores como el tiempo de simulación, la forma en que se estiman los parámetros a partir de datos reales, o posibles sesgos en la generación de tiempos de servicio. Sin embargo, la tendencia general valida cualitativamente el comportamiento esperado del sistema M/M/K/K para las dos priemras funciones. Por otra parte, para las dos últimas funciones, en el caso de cargas menores o iguales al número de servidores ($A \\leq k$), se observa una mayor discrepancia entre la curva teórica y la simulada, especialmente cuando la relación $\\lambda / \\mu$ se acerca al valor de $k$. Esta desviación depende del generador de tiempos entre arribos utilizado, lo que sugiere que el modelo es más sensible a la variabilidad empírica en esta región. Luego, en escenarios de alta carga ($A \\geq k$), la probabilidad de bloqueo obtenida por simulación se aproxima con mayor fidelidad a la curva teórica. Las diferencias son menores y tienden a desaparecer conforme aumenta la carga del sistema, lo cual es consistente con el comportamiento asintótico esperado del modelo de Erlang-B. Esto permite concluir que, mientras la simulación puede diferir notablemente del valor teórico bajo cargas moderadas o bajas (dependiendo de la función aleatoria usada), en condiciones de alta carga la estabilidad del modelo mejora y la simulación se alinea mejor con la teoría.\n",
    "\n",
    "A pesar de su utilidad, el modelo Erlang B tiene varias limitaciones que deben considerarse, especialmente en el contexto de los sistemas informáticos modernos, que a menudo presentan características de tráfico y comportamiento más complejas que las asumidas por el modelo.\n",
    "\n",
    "El tráfico real en sistemas de TI puede ser \"rafagoso\" (bursty) o autocorrelacionado, desviándose del proceso de llegada de Poisson. De manera similar, los tiempos de servicio para tareas computacionales pueden no seguir una distribución exponencial[3] .\n",
    "\n",
    "Mecanismos de Reintento: El modelo Erlang B asume que las solicitudes bloqueadas se eliminan y no reintentan el acceso al servicio. Sin embargo, en muchos sistemas de TI (como navegadores web, aplicaciones cliente o incluso componentes internos del sistema), los reintentos automáticos son una práctica común. \n",
    "\n",
    "Más allá de ser una simple fórmula de cálculo, el estudio y la aplicación de Erlang B inculcan una comprensión fundamental de los conceptos clave de la teoría del tráfico y el rendimiento de sistemas: la carga, la capacidad, el bloqueo y el Grado de Servicio. Estos conceptos son esenciales para cualquier ingeniero que se ocupe del rendimiento de los sistemas, independientemente de las herramientas específicas que utilice finalmente. \n",
    "\n",
    "Finalmente como trabajo futuro se puede mejorar mejorar significativamente la eficiencia computacional manteniendo la precisión en comparación con el cálculo directo de la fórmula de Erlang B y sus inversas empleando redes neuronales artificiales. \n",
    "\n",
    "El cálculo directo de la fórmula de Erlang B puede volverse computacionalmente intensivo, especialmente con un gran número de canales y/o una alta intensidad de tráfico, pudiendo incluso exceder las capacidades computacionales incluso de un servidor a escala productiva.  Además, no existen funciones inversas de forma cerrada para la fórmula de Erlang B, lo que dificulta determinar directamente la intensidad de tráfico o el número de canales necesarios para un GOS específico[4].\n",
    "\n",
    "La optimización radica en resolver el problema inverso el cual consiste en calcular el número requerido de canales o la cantidad máxima de tráfico para una probabilidad de bloqueo de llamadas dada.\n",
    "\n",
    "Para la predicción de la probabilidad de bloqueo se plantea (log p) que toma como entrada el numero de canales y la intensidad de trafico (a), la predicción de esta variable toma como entrada el número de canales (S) y la probabilidad de bloqueo (log P). La predicción del número de canales (S): Toma como entrada la intensidad del tráfico (a) y la probabilidad de bloqueo (log P).\n",
    "\n",
    "Se observó que usar la representación logarítmica de la probabilidad de bloqueo (log P) mejora los resultados.  Las RNA se entrenaron con datos obtenidos de la aplicación directa de la fórmula de Erlang B.\n",
    "\n",
    "Los modelos son válidos dentro de los rangos de las variables de entrada utilizadas para el entrenamiento (hasta 250 canales y una probabilidad de bloqueo de hasta el 50%).  Una ventaja significativa es que el modelo neuronal puede proporcionar cálculos en regiones donde la aplicación directa de la fórmula de Erlang B podría fallar debido a limitaciones numéricas.\n"
   ]
  },
  {
   "cell_type": "markdown",
   "id": "2f66c43e",
   "metadata": {},
   "source": [
    "## *Anexos*"
   ]
  },
  {
   "cell_type": "markdown",
   "id": "8138e221",
   "metadata": {
    "vscode": {
     "languageId": "latex"
    }
   },
   "source": [
    "### Codigo de las actividades"
   ]
  },
  {
   "cell_type": "markdown",
   "id": "ed721d00",
   "metadata": {},
   "source": [
    "[Actividades Erlang B](https://github.com/criss201x/ERLANG_B/blob/main/notebooks/erlanb_b_base.ipynb)"
   ]
  },
  {
   "cell_type": "markdown",
   "id": "01cc123f",
   "metadata": {},
   "source": [
    "### Diagramas de flujo"
   ]
  },
  {
   "cell_type": "code",
   "execution_count": 18,
   "id": "7a687fa0",
   "metadata": {
    "jupyter": {
     "source_hidden": true
    }
   },
   "outputs": [],
   "source": [
    "def generate_mmkk_diagram():\n",
    "    from graphviz import Digraph\n",
    "    dot = Digraph('SistemaMMKK', filename='mmkk_system.gv', engine='dot')\n",
    "    dot.attr(rankdir='TB', size='15,16', bgcolor='#f8f9fa', fontname='Arial',\n",
    "            label='\\nSistema de Colas M/M/K/K (Erlang B)\\n', labelloc='t', fontsize='12')\n",
    "\n",
    "    # ===== PALETA COMPACTA =====\n",
    "    colors = {\n",
    "        'inicio': '#2ecc71',\n",
    "        'fin': '#e74c3c',\n",
    "        'proceso': '#3498db',\n",
    "        'decision': '#f39c12',\n",
    "        'servidor': '#27ae60',\n",
    "        'rechazo': '#c0392b',\n",
    "        'formula': '#1abc9c'\n",
    "    }\n",
    "\n",
    "    # ===== NODOS PRINCIPALES =====\n",
    "    nodes = [\n",
    "        ('Start', 'INICIO\\nConfigura:\\nK servidores\\nλ (llegadas/h)\\nμ (servicios/h)', 'ellipse', colors['inicio']),\n",
    "        ('Init', 'Inicializa:\\n• Serv. libres = K\\n• Reloj = 0\\n• Contadores = 0', 'box', colors['proceso']),\n",
    "        ('Time', 'Avanzar tiempo:\\nt += Δt ~ exp(λ)', 'box', colors['proceso']),\n",
    "        ('Arrival', '¿Llegada cliente?', 'diamond', colors['decision']),\n",
    "        ('Check', '¿Servidores libres?', 'diamond', colors['decision']),\n",
    "        ('Assign', 'Asignar servidor:\\nTiempo ~ exp(μ)', 'box', colors['servidor']),\n",
    "        ('Release', 'Liberar servidor', 'box', colors['servidor']),\n",
    "        ('Reject', 'Cliente rechazado\\n(Contar bloqueo)', 'box', colors['rechazo'])\n",
    "    ]\n",
    "\n",
    "    for id, label, shape, color in nodes:\n",
    "        dot.node(id, label, shape=shape, style='filled,rounded' if shape == 'box' else 'filled', fillcolor=color)\n",
    "\n",
    "    # ===== BLOQUE DE MÉTRICAS =====\n",
    "    with dot.subgraph(name='cluster_metrics') as met:\n",
    "        met.attr(label='Métricas Finales', style='rounded,filled', fillcolor='#fff9e6')\n",
    "        met.node('Results', '''Resultados:\n",
    "    - Atendidos: A\n",
    "    - Rechazados: R\n",
    "    - Prob. bloqueo: R/(A+R)\n",
    "    - Ocupación: A/(A+R)''', shape='box', style='filled', fillcolor='#fffacd')\n",
    "        met.node('ErlangB', '''Erlang B:\n",
    "    B(E,K) = (Eᴷ/K!)/Σ(Eⁱ/i!)\n",
    "    E = λ/μ (Erlangs)''', shape='box', style='filled', fillcolor=colors['formula'], fontname='Courier', fontsize='10')\n",
    "\n",
    "    # ===== LEYENDA VERTICAL =====\n",
    "    with dot.subgraph(name='cluster_legend') as leg:\n",
    "        leg.attr(style='filled', fillcolor='#ecf0f1')\n",
    "        legend_items = [\n",
    "            'Leyenda:',\n",
    "            '◼ M/M/K/K',\n",
    "            '◼ λ = Tasa llegadas',\n",
    "            '◼ μ = Tasa servicio',\n",
    "            '◼ K = Servidores',\n",
    "            '◼ B(E,K) = Prob. bloqueo'\n",
    "        ]\n",
    "        for i, item in enumerate(legend_items):\n",
    "            leg.node(f'L{i}', item, shape='plaintext', fontcolor='#2c3e50' if i==0 else 'black')\n",
    "\n",
    "    # ===== CONEXIONES CORREGIDAS =====\n",
    "    connections = [\n",
    "        ('Start', 'Init', None),\n",
    "        ('Init', 'Time', None),\n",
    "        ('Time', 'Arrival', None),\n",
    "        ('Arrival', 'Check', 'Sí'),\n",
    "        ('Arrival', 'Time', 'No'),\n",
    "        ('Check', 'Assign', 'Sí'),\n",
    "        ('Check', 'Reject', 'No'),\n",
    "        ('Assign', 'Release', None),\n",
    "        ('Release', 'Time', None),\n",
    "        ('Reject', 'Time', None),\n",
    "        ('Time', 'Results', 'Fin simulación'),\n",
    "        ('Results', 'ErlangB', None)\n",
    "    ]\n",
    "\n",
    "    for src, dst, label in connections:\n",
    "        dot.edge(src, dst, label=label, style='dashed' if label in ['No', None] else 'solid')\n",
    "\n",
    "    # ===== AJUSTES FINALES =====\n",
    "    dot.attr(ranksep='0.4', nodesep='0.3')\n",
    "    dot\n",
    "    return dot"
   ]
  },
  {
   "cell_type": "markdown",
   "id": "4b94dc67-d631-4110-91dd-21b5dd80ebb1",
   "metadata": {},
   "source": [
    "## *Referencias*"
   ]
  },
  {
   "cell_type": "markdown",
   "id": "d00853e5-ddfa-4771-9cd1-adcd75eac9dd",
   "metadata": {},
   "source": [
    "1. Thread pools and Erlang models - wide awake developers. (2008, December 1). https://www.michaelnygard.com/blog/2008/11/thread-pools-and-erlang-models/\n",
    "2. Ludeña, J. A. (2022, November 24). Teoría de colas Qué es, definición y concepto. Economipedia. https://economipedia.com/definiciones/teoria-de-colas.html\n",
    "3. Elshawesh, A. M., & Abdulali, M. (2014). Dimensioning of Circuit Switched networks by using Simulation code based on Erlang (B) formula. Department of Telecommunications and Networks Faculty of Information Technology Misurata University/Misurata, 1–5. https://doi.org/10.1109/gscit.2014.6970093\n",
    "4. Marinković, Z., & Stošić, B. P. (2023). Applications of artificial neural networks for calculation of the Erlang B formula and its inverses. Engineering Reports, 5(9). https://doi.org/10.1002/eng2.12647"
   ]
  },
  {
   "cell_type": "code",
   "execution_count": null,
   "id": "f49c23f4-7a94-4dca-a3c6-a665c6e9df0b",
   "metadata": {},
   "outputs": [],
   "source": []
  }
 ],
 "metadata": {
  "kernelspec": {
   "display_name": "Python 3 (ipykernel)",
   "language": "python",
   "name": "python3"
  },
  "language_info": {
   "codemirror_mode": {
    "name": "ipython",
    "version": 3
   },
   "file_extension": ".py",
   "mimetype": "text/x-python",
   "name": "python",
   "nbconvert_exporter": "python",
   "pygments_lexer": "ipython3",
   "version": "3.12.4"
  }
 },
 "nbformat": 4,
 "nbformat_minor": 5
}
