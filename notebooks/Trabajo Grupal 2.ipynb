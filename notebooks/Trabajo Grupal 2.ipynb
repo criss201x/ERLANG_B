{
 "cells": [
  {
   "cell_type": "markdown",
   "id": "015313b8",
   "metadata": {},
   "source": [
    "# **Simulación de cola $M/M/k/k/∞$ (Erlang B)** \n",
    "#### By: Cristian Alape, Alvaro Zarabanda, Youssef Ortiz "
   ]
  },
  {
   "cell_type": "markdown",
   "id": "faea46f0",
   "metadata": {},
   "source": [
    "## *Primera actividad*"
   ]
  },
  {
   "cell_type": "markdown",
   "id": "a98f80d2",
   "metadata": {},
   "source": [
    "Construyan el modelo matemático de la cola asignada a su grupo. El modelo debe incluir:\n",
    "diagrama de transición de estados, ecuaciones de estado estacionario y el procedimiento matemático que permita calcular la medida de desempeño de interés (propabilidad de bloqueo:\n",
    "$Pk$, en los sistemas $M/M/1/k/∞$ y $M/M/k/k/∞$; y tiempo medio de espera: $E[Tw]$, en el\n",
    "sistema $M/M/k/∞/∞$)."
   ]
  },
  {
   "cell_type": "markdown",
   "id": "05d15380",
   "metadata": {},
   "source": [
    "<div style=\"text-align: center;\">\n",
    "\n",
    "  ![Figura 1: Diagrama de la cola Erlang B](../assets/Erlang_B.png)\n",
    "  <p><strong>Figura 1:</strong> Diagrama de la cola Erlang B.</p>\n",
    "</div>"
   ]
  },
  {
   "cell_type": "markdown",
   "id": "6e87b824",
   "metadata": {},
   "source": [
    "Para el analisis de esta cola, primero se plantea y se tiene en cuenta el diagrama de transicion de estados para el modelado matematico:"
   ]
  },
  {
   "cell_type": "markdown",
   "id": "2687e621",
   "metadata": {},
   "source": [
    "<div style=\"text-align: center;\">\n",
    "\n",
    "  ![Figura 1: Diagrama de la cola Erlang B](../assets/Estados.png)\n",
    "  \n",
    "  <p><strong>Figura 2:</strong> Diagrama de transición de estados.</p>\n",
    "</div>"
   ]
  },
  {
   "cell_type": "markdown",
   "id": "70e748a0",
   "metadata": {},
   "source": [
    "De esta forma podemos obtener la eciaciones de destado estacionario:"
   ]
  },
  {
   "cell_type": "markdown",
   "id": "c391b19e",
   "metadata": {},
   "source": [
    "<div style=\"text-align: center;\">\n",
    "\n",
    "  | Estado | Tasa promedio de salida del estado | Tasa promedio de llegada al estado | Probabilidad del estado |\n",
    "  |--------|-----------------------------------|-----------------------------------|-----------------------------------|\n",
    "  | 0      | $\\lambda P_0$                    | $\\mu P_1$                        | $$ P_1 = \\frac{\\lambda}{\\mu}P_0 $$  |\n",
    "  | 1      | $\\lambda P_1 + \\mu P_1$           | $\\lambda P_0 + 2\\mu P_2$        | $$ P_2 = \\frac{\\lambda}{2\\mu}P_1 $$  |\n",
    "  | 2      | $\\lambda P_2 + 2\\mu P_2$           |  $\\lambda P_1 + 3\\mu P_3$                       | $$ P_3 = \\frac{\\lambda}{3\\mu}P_2 $$                        |\n",
    "  | 3      | $\\lambda P_3 + 3\\mu P_3$           | $\\lambda P_2 + 4\\mu P_4$                       | $$ P_4 = \\frac{\\lambda}{4\\mu}P_3 $$                        |\n",
    "\n",
    "</div>\n",
    "\n",
    "  <p><strong>Tabla 1:</strong> Ecuaciones de estado estacionario.</p>\n",
    "\n",
    "**Fórmula general de probabilidad de estado:**\n",
    "\n",
    "$$\n",
    "P_n = \\frac{\\lambda}{n\\mu} P_{n-1}\n",
    "$$\n"
   ]
  },
  {
   "cell_type": "markdown",
   "id": "bfdbbff4",
   "metadata": {},
   "source": [
    "Luego, hallando $P_n$ en funcion de $P_0$ obtenemos:\n",
    "\n",
    "$$\n",
    "P_n = \\left(\\frac{\\lambda}{\\mu}\\right)^n \\frac{1}{n!} P_0\n",
    "$$"
   ]
  },
  {
   "cell_type": "markdown",
   "id": "ad8b248d",
   "metadata": {},
   "source": [
    "Sabiendo que la suma de las probabilidades es 1, entonces $P_0 + P_1 + P_2+ ... + P_n = 1$ asi:"
   ]
  },
  {
   "cell_type": "markdown",
   "id": "00a5d096",
   "metadata": {},
   "source": [
    "$$ \\sum_{n=0}^{k} P_n  = 1$$"
   ]
  },
  {
   "cell_type": "markdown",
   "id": "ad9c0fe4",
   "metadata": {},
   "source": [
    "Luego reemplazando $P_n$"
   ]
  },
  {
   "cell_type": "markdown",
   "id": "7ec8a190",
   "metadata": {},
   "source": [
    "$$ \\sum_{n=0}^{k} \\left(\\left(\\frac{\\lambda}{\\mu}\\right)^n \\frac{1}{n!}  P_0\\right) = 1$$"
   ]
  },
  {
   "cell_type": "markdown",
   "id": "797712c2",
   "metadata": {},
   "source": [
    "Despejando $P_0$"
   ]
  },
  {
   "cell_type": "markdown",
   "id": "673a8242",
   "metadata": {},
   "source": [
    "$$P_0 = \\frac{1}{\\sum_{n=0}^{k} \\left(\\frac{\\lambda}{\\mu}\\right)^n \\frac{1}{n!}}$$"
   ]
  },
  {
   "cell_type": "markdown",
   "id": "17b22ab6",
   "metadata": {},
   "source": [
    "Finalmente se obtiene $P_n$ en funcion de $\\lambda$ y $\\mu$"
   ]
  },
  {
   "cell_type": "markdown",
   "id": "6c7d99bd",
   "metadata": {},
   "source": [
    "$$\n",
    "P_n = \\frac{\\left(\\frac{\\lambda}{\\mu}\\right)^n \\frac{1}{n!}}{\\sum_{n=0}^{k} \\left(\\frac{\\lambda}{\\mu}\\right)^n \\frac{1}{n!}}\n",
    "$$"
   ]
  },
  {
   "cell_type": "markdown",
   "id": "9cc6435c",
   "metadata": {},
   "source": [
    "Luego, se halla la probabilidad de bloqueo reemplazando $n$ por $k$"
   ]
  },
  {
   "cell_type": "markdown",
   "id": "ac1f8c0d",
   "metadata": {},
   "source": [
    "$$\n",
    "P_k = \\frac{\\left(\\frac{\\lambda}{\\mu}\\right)^k \\frac{1}{k!}}{\\sum_{n=0}^{k} \\left(\\frac{\\lambda}{\\mu}\\right)^n \\frac{1}{n!}}\n",
    "$$"
   ]
  },
  {
   "cell_type": "markdown",
   "id": "ec970a98",
   "metadata": {},
   "source": [
    "Luego $$A= \\frac{\\lambda}{\\mu}$$"
   ]
  },
  {
   "cell_type": "markdown",
   "id": "227e5748",
   "metadata": {},
   "source": [
    "Y reemplazando A:\n",
    "\n",
    "$$\n",
    "P_k = \\frac{\\left(A\\right)^k \\frac{1}{k!}}{\\sum_{n=0}^{k} \\left(A\\right)^n \\frac{1}{n!}}\n",
    "$$"
   ]
  },
  {
   "cell_type": "markdown",
   "id": "4ea66703",
   "metadata": {},
   "source": [
    "Se obtiene la formula de probabilidad de blouqeo. Ahora bien, cuando se presenta un número muy grande de servidores, surgen problemas computacionales debido al cálculo de factoriales grandes. Estos crecen exponencialmente y requieren una enorme cantidad de memoria y tiempo de ejecución, lo que puede causar desbordamientos o errores de precisión. Además, el cálculo de factoriales grandes es costoso y poco práctico a nivel computacional. Una solución común es utilizar una funcion recursiva, la cual se puede encontrar de la siguiente manera:"
   ]
  },
  {
   "cell_type": "markdown",
   "id": "461bedd1",
   "metadata": {},
   "source": [
    "## *Segunda actividad*"
   ]
  },
  {
   "cell_type": "markdown",
   "id": "6fc72e5f",
   "metadata": {},
   "source": [
    "Diseñen y codifiquen en MATLAB una función que permita simular la cola asignada. Los\n",
    "parámetros de entrada de la función deben ser: un vector con los tiempos entre arribos\n",
    "consecutivos y un vector con los tiempos de servicio. El resultado de la simulación debe ser\n",
    "la estimación de la medida de desempeño."
   ]
  },
  {
   "cell_type": "markdown",
   "id": "f1f5d5fc",
   "metadata": {},
   "source": [
    "Para el desarrollo, se optó por implementar la simulacion en Python utilizando la libreria Simpy $(Insertar Referencia)$. Al realizar la prueba se pasaron los siguientes parametros de entrada:\n",
    "\n",
    "$k = 1$\n",
    "\n",
    "$tea = [1,2,3,7,2,3,8,0,5]$\n",
    "\n",
    "$tes = [9,1,4,1,1,5,3,8,2]$\n",
    "\n",
    "donde $k$ es el número de servidores, $tea$ el vector de tiempos entre arribos y $tes$ los tiempos de servicio. Asi se obtienen los siguientes resuldados:"
   ]
  },
  {
   "cell_type": "markdown",
   "id": "f4657924",
   "metadata": {},
   "source": [
    "<div style=\"text-align: center;\">\n",
    "\n",
    "  ![Figura 1: Diagrama de la cola Erlang B](../assets/Resultados_Erlang_B.png)\n",
    "  \n",
    "  <p><strong>Figura 3:</strong> Clientes Atendidos vs Bloqueados.</p>\n",
    "</div>"
   ]
  },
  {
   "cell_type": "markdown",
   "id": "456fd706",
   "metadata": {},
   "source": [
    "## *Tercera actividad*"
   ]
  },
  {
   "cell_type": "markdown",
   "id": "bac1aca8",
   "metadata": {},
   "source": [
    "Realicen la simulación de la cola asignada, variando $A = λ/µ$. Consideren que los elementos del vector de tiempos entre arribos consecutivos se distribuyen exponencialmente, con\n",
    "parámetro $λ$; y que los elementos del vector de tiempos de servicio se distribuyen exponencialmente, con parámetro $µ$. Como resultado principal, realicen la gráfica de la medida\n",
    "de desempeño versus A. Verifiquen que los resultados de simulación coincidan con el valor\n",
    "teórico de la medida de desempeño."
   ]
  }
 ],
 "metadata": {
  "kernelspec": {
   "display_name": ".venv",
   "language": "python",
   "name": "python3"
  },
  "language_info": {
   "name": "python",
   "version": "3.13.3"
  }
 },
 "nbformat": 4,
 "nbformat_minor": 5
}
