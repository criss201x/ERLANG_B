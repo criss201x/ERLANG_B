{
 "cells": [
  {
   "cell_type": "markdown",
   "id": "015313b8",
   "metadata": {},
   "source": [
    "# **Simulación de cola $M/M/k/k/∞$ (Erlang B)** \n",
    "#### By: Cristian Alape, Alvaro Zarabanda, Youssef Ortiz "
   ]
  },
  {
   "cell_type": "markdown",
   "id": "faea46f0",
   "metadata": {},
   "source": [
    "## *Primera actividad*"
   ]
  },
  {
   "cell_type": "markdown",
   "id": "a98f80d2",
   "metadata": {},
   "source": [
    "Construyan el modelo matemático de la cola asignada a su grupo. El modelo debe incluir:\n",
    "diagrama de transición de estados, ecuaciones de estado estacionario y el procedimiento matemático que permita calcular la medida de desempeño de interés (propabilidad de bloqueo:\n",
    "$Pk$, en los sistemas $M/M/1/k/∞$ y $M/M/k/k/∞$; y tiempo medio de espera: $E[Tw]$, en el\n",
    "sistema $M/M/k/∞/∞$)."
   ]
  },
  {
   "cell_type": "markdown",
   "id": "05d15380",
   "metadata": {},
   "source": [
    "<div style=\"text-align: center;\">\n",
    "\n",
    "  ![Figura 1: Diagrama de la cola Erlang B](../assets/Erlang_B.png)\n",
    "  <p><strong>Figura 1:</strong> Diagrama de la cola Erlang B.</p>\n",
    "</div>"
   ]
  },
  {
   "cell_type": "markdown",
   "id": "6e87b824",
   "metadata": {},
   "source": [
    "Para el analisis de esta cola, primero se plantea y se tiene en cuenta el diagrama de transicion de estados para el modelado matematico:"
   ]
  },
  {
   "cell_type": "markdown",
   "id": "2687e621",
   "metadata": {},
   "source": [
    "<div style=\"text-align: center;\">\n",
    "\n",
    "  ![Figura 1: Diagrama de la cola Erlang B](../assets/Estados.png)\n",
    "  \n",
    "  <p><strong>Figura 2:</strong> Diagrama de transición de estados.</p>\n",
    "</div>"
   ]
  },
  {
   "cell_type": "markdown",
   "id": "70e748a0",
   "metadata": {},
   "source": [
    "De esta forma podemos obtener la eciaciones de destado estacionario:"
   ]
  },
  {
   "cell_type": "markdown",
   "id": "c391b19e",
   "metadata": {},
   "source": [
    "<div style=\"text-align: center;\">\n",
    "\n",
    "  | Estado | Tasa promedio de salida del estado | Tasa promedio de llegada al estado | Probabilidad del estado |\n",
    "  |--------|-----------------------------------|-----------------------------------|-----------------------------------|\n",
    "  | 0      | $\\lambda P_0$                    | $\\mu P_1$                        | $$ P_1 = \\frac{\\lambda}{\\mu}P_0 $$  |\n",
    "  | 1      | $\\lambda P_1 + \\mu P_1$           | $\\lambda P_0 + 2\\mu P_2$        | $$ P_2 = \\frac{\\lambda}{2\\mu}P_1 $$  |\n",
    "  | 2      | $\\lambda P_2 + 2\\mu P_2$           |  $\\lambda P_1 + 3\\mu P_3$                       | $$ P_3 = \\frac{\\lambda}{3\\mu}P_2 $$                        |\n",
    "  | 3      | $\\lambda P_3 + 3\\mu P_3$           | $\\lambda P_2 + 4\\mu P_4$                       | $$ P_4 = \\frac{\\lambda}{4\\mu}P_3 $$                        |\n",
    "\n",
    "</div>\n",
    "\n",
    "  <p><strong>Tabla 1:</strong> Ecuaciones de estado estacionario.</p>\n",
    "\n",
    "**Fórmula general de probabilidad de estado:**\n",
    "\n",
    "$$\n",
    "P_n = \\frac{\\lambda}{n\\mu} P_{n-1}\n",
    "$$\n"
   ]
  },
  {
   "cell_type": "markdown",
   "id": "bfdbbff4",
   "metadata": {},
   "source": [
    "Luego, hallando $P_n$ en funcion de $P_0$ obtenemos:\n",
    "\n",
    "$$\n",
    "P_n = \\left(\\frac{\\lambda}{\\mu}\\right)^n \\frac{1}{n!} P_0\n",
    "$$"
   ]
  },
  {
   "cell_type": "markdown",
   "id": "ad8b248d",
   "metadata": {},
   "source": [
    "Sabiendo que la suma de las probabilidades es 1, entonces $P_0 + P_1 + P_2+ ... + P_n = 1$ asi:"
   ]
  },
  {
   "cell_type": "markdown",
   "id": "00a5d096",
   "metadata": {},
   "source": [
    "$$ \\sum_{n=0}^{k} P_n  = 1$$"
   ]
  },
  {
   "cell_type": "markdown",
   "id": "ad9c0fe4",
   "metadata": {},
   "source": [
    "Luego reemplazando $P_n$"
   ]
  },
  {
   "cell_type": "markdown",
   "id": "7ec8a190",
   "metadata": {},
   "source": [
    "$$ \\sum_{n=0}^{k} \\left(\\left(\\frac{\\lambda}{\\mu}\\right)^n \\frac{1}{n!}  P_0\\right) = 1$$"
   ]
  },
  {
   "cell_type": "markdown",
   "id": "797712c2",
   "metadata": {},
   "source": [
    "Despejando $P_0$"
   ]
  },
  {
   "cell_type": "markdown",
   "id": "673a8242",
   "metadata": {},
   "source": [
    "$$P_0 = \\frac{1}{\\sum_{n=0}^{k} \\left(\\frac{\\lambda}{\\mu}\\right)^n \\frac{1}{n!}}$$"
   ]
  },
  {
   "cell_type": "markdown",
   "id": "17b22ab6",
   "metadata": {},
   "source": [
    "Finalmente se obtiene $P_n$ en funcion de $\\lambda$ y $\\mu$"
   ]
  },
  {
   "cell_type": "markdown",
   "id": "6c7d99bd",
   "metadata": {},
   "source": [
    "$$\n",
    "P_n = \\frac{\\left(\\frac{\\lambda}{\\mu}\\right)^n \\frac{1}{n!}}{\\sum_{n=0}^{k} \\left(\\frac{\\lambda}{\\mu}\\right)^n \\frac{1}{n!}}\n",
    "$$"
   ]
  },
  {
   "cell_type": "markdown",
   "id": "9cc6435c",
   "metadata": {},
   "source": [
    "Luego, se halla la probabilidad de bloqueo reemplazando $n$ por $k$"
   ]
  },
  {
   "cell_type": "markdown",
   "id": "ac1f8c0d",
   "metadata": {},
   "source": [
    "$$\n",
    "P_k = \\frac{\\left(\\frac{\\lambda}{\\mu}\\right)^k \\frac{1}{k!}}{\\sum_{n=0}^{k} \\left(\\frac{\\lambda}{\\mu}\\right)^n \\frac{1}{n!}}\n",
    "$$"
   ]
  },
  {
   "cell_type": "markdown",
   "id": "ec970a98",
   "metadata": {},
   "source": [
    "Luego $$A= \\frac{\\lambda}{\\mu}$$"
   ]
  },
  {
   "cell_type": "markdown",
   "id": "227e5748",
   "metadata": {},
   "source": [
    "Y reemplazando A:\n",
    "\n",
    "$$\n",
    "P_k = \\frac{\\left(A\\right)^k \\frac{1}{k!}}{\\sum_{n=0}^{k} \\left(A\\right)^n \\frac{1}{n!}}\n",
    "$$"
   ]
  },
  {
   "cell_type": "markdown",
   "id": "4ea66703",
   "metadata": {},
   "source": [
    "Se obtiene la formula de probabilidad de blouqeo. Ahora bien, cuando se presenta un número muy grande de servidores, surgen problemas computacionales debido al cálculo de factoriales grandes. Estos crecen exponencialmente y requieren una enorme cantidad de memoria y tiempo de ejecución, lo que puede causar desbordamientos o errores de precisión. Además, el cálculo de factoriales grandes es costoso y poco práctico a nivel computacional. Una solución común es utilizar una funcion recursiva, la cual se puede encontrar de la siguiente manera:"
   ]
  },
  {
   "cell_type": "markdown",
   "id": "461bedd1",
   "metadata": {},
   "source": [
    "## *Segunda actividad*"
   ]
  },
  {
   "cell_type": "markdown",
   "id": "6fc72e5f",
   "metadata": {},
   "source": [
    "Diseñen y codifiquen en MATLAB una función que permita simular la cola asignada. Los\n",
    "parámetros de entrada de la función deben ser: un vector con los tiempos entre arribos\n",
    "consecutivos y un vector con los tiempos de servicio. El resultado de la simulación debe ser\n",
    "la estimación de la medida de desempeño."
   ]
  },
  {
   "cell_type": "markdown",
   "id": "f1f5d5fc",
   "metadata": {},
   "source": [
    "Para el desarrollo, se optó por implementar la simulacion en Python utilizando la libreria Simpy $(Insertar Referencia)$. Al realizar la prueba se pasaron los siguientes parametros de entrada:\n",
    "\n",
    "$k = 1$\n",
    "\n",
    "$tea = [1,2,3,7,2,3,8,0,5]$\n",
    "\n",
    "$tes = [9,1,4,1,1,5,3,8,2]$\n",
    "\n",
    "donde $k$ es el número de servidores, $tea$ el vector de tiempos entre arribos y $tes$ los tiempos de servicio. Asi se obtienen los siguientes resuldados:"
   ]
  },
  {
   "cell_type": "markdown",
   "id": "f4657924",
   "metadata": {},
   "source": [
    "<div style=\"text-align: center;\">\n",
    "\n",
    "  ![Figura 1: Diagrama de la cola Erlang B](../assets/Resultados_Erlang_B.png)\n",
    "  \n",
    "  <p><strong>Figura 3:</strong> Clientes Atendidos vs Bloqueados.</p>\n",
    "</div>"
   ]
  },
  {
   "cell_type": "markdown",
   "id": "456fd706",
   "metadata": {},
   "source": [
    "## *Tercera actividad*"
   ]
  },
  {
   "cell_type": "markdown",
   "id": "bac1aca8",
   "metadata": {},
   "source": [
    "Realicen la simulación de la cola asignada, variando $A = λ/µ$. Consideren que los elementos del vector de tiempos entre arribos consecutivos se distribuyen exponencialmente, con\n",
    "parámetro $λ$; y que los elementos del vector de tiempos de servicio se distribuyen exponencialmente, con parámetro $µ$. Como resultado principal, realicen la gráfica de la medida\n",
    "de desempeño versus A. Verifiquen que los resultados de simulación coincidan con el valor\n",
    "teórico de la medida de desempeño."
   ]
  },
  {
   "cell_type": "markdown",
   "id": "6a6c9f6a-b066-46a9-9305-2c8fce548299",
   "metadata": {},
   "source": [
    "## *Sexta actividad*"
   ]
  },
  {
   "cell_type": "markdown",
   "id": "4541b951-6db5-4121-9eed-629f8b08c398",
   "metadata": {},
   "source": [
    "Los modelos Erlang se han utilizado en el ámbito de las telecomunicaciones y la investigación operativa durante casi un siglo. AK Erlang , ingeniero telefónico danés, desarrolló estos modelos para planificar la capacidad de la red telefónica y predecir la calidad del servicio garantizado, basándose en métricas básicas sobre el volumen y la duración de las llamadas.\n",
    "\n",
    "Los modelos Erlang se utilizan ampliamente en telecomunicaciones, incluyendo el dimensionamiento de redes GPRS, el dimensionamiento de líneas troncales, los modelos de dotación de personal de centros de llamadas y otros ámbitos de planificación de capacidad donde la llegada de solicitudes es aparentemente aleatoria[1]."
   ]
  },
  {
   "cell_type": "markdown",
   "id": "b9e553d0-ef35-4032-915d-28a090f70f79",
   "metadata": {},
   "source": [
    "La aplicabilidad de la cola tipo Erlang B se ve mayormente en el campo de las telecomunicaciones debido a la naturaleza para la cual fue creado este método, sin embargo, existen múltiples aplicaciones en el campo de ingeniería y la informática. La clave de su versatilidad radica en la abstracción del concepto de \"servidor\", que puede representar una variedad de recursos limitados en los sistemas informáticos. \n",
    "\n",
    "Resulta bastante obvio que los modelos Erlang también son ampliamente aplicables al análisis del rendimiento informático. Existe una amplia literatura sobre este tema que se remonta a los inicios del mainframe. Los modelos Erlang son la base de la mayoría de los grupos de gestión de capacidad[2].\n",
    "\n",
    "El modelo Erlang B puede utilizarse para estimar la capacidad de manejo de solicitudes concurrentes de un servidor web. En este contexto, los \"servidores\" del modelo Erlang B son los hilos (threads) de trabajo o procesos del servidor web disponibles para atender las solicitudes HTTP entrantes. Si todas estas unidades de procesamiento están ocupadas y no existe una cola de espera (o esta es muy limitada y se llena rápidamente), las nuevas solicitudes pueden ser rechazadas, generando errores como \"503 Service Unavailable\".\n",
    "\n",
    "Si el pool de hilos está configurado para rechazar nuevas tareas cuando todos los hilos están ocupados (en lugar de encolarlas indefinidamente), el modelo Erlang B puede calcular la probabilidad de este rechazo.\n",
    "\n",
    "Por ejemplo, consideremos un servicio web que procesa tareas. Si se conoce la tasa de llegada de tareas y el tiempo promedio que un hilo tarda en procesar una tarea, se puede calcular el tráfico ofrecido en Erlangs. Luego, utilizando la fórmula Erlang B, se puede determinar la probabilidad de que una tarea sea rechazada para un tamaño de pool de hilos dado, o, inversamente, calcular el tamaño del pool de hilos necesario para alcanzar una probabilidad de rechazo objetivo. Esto es crucial para el ajuste del rendimiento en software multihilo, asegurando que el sistema pueda manejar la carga esperada sin una tasa de rechazo excesiva.\n",
    "\n",
    "La siguiente tabla ilustra un ejemplo de aplicación de Erlang B para el dimensionamiento de un pool de hilos para conexiones a un servidor web: "
   ]
  },
  {
   "cell_type": "markdown",
   "id": "99992f57-f2f0-45b6-a28e-cd93fba5253c",
   "metadata": {},
   "source": [
    "| Parámetro        | Descripción           | Procesamiento de Tareas de Servicio Web  | Observaciones |\n",
    "| ------------- |:-------------|:-----:| :-------------|\n",
    "| Tasa de Llegada (λ) | Número medio de tareas que llegan por unidad de tiempo. | 100 tareas/segundo | Debe medirse o estimarse para la \"hora pico\". |\n",
    "| Tiempo Medio de Servicio (h o 1/μ) | Tiempo medio que un hilo tarda en procesar una tarea.      |   0.05 segundos/tarea (50 ms)| Asegurar que esto refleje el tiempo real de procesamiento, no incluyendo el tiempo potencial de espera en cola (si existiera una cola antes del rechazo). |\n",
    "| Tráfico Ofrecido (A o E=λ×h) | Carga de trabajo total ofrecida al sistema en Erlangs. | 100 tareas/s × 0.05 s/tarea = 5 Erlangs | Este es el tráfico que el pool procesaría si tuviera un número infinito de hilos. |\n",
    "| Número de Hilos (c o m) | Número de hilos de trabajo concurrentes en el pool. | A determinar (p. ej., probar c=7) | Esta es la variable que a menudo se quiere resolver, o se prueban diferentes valores. |\n",
    "| Probabilidad de Bloqueo Objetivo ($P_B$ o GoS) | Porcentaje máximo deseado de tareas a ser rechazadas. | 0.01 (1% de bloqueo) | Requisito de negocio/rendimiento. Un $P_B$ más bajo requiere más hilos para el mismo tráfico.|\n",
    "| $P_B$ Calculada (usando fórmula Erlang B) | Probabilidad resultante de rechazo de tareas. | Para A=5 Erlangs, c=7 hilos, $P_B$ ≈0.077 (7.7%) (Valor de una calculadora Erlang B) | Si 7.7% es demasiado alto, aumentar 'c'. Para A=5, $P_B$ =0.01, 'c' necesitaría ser alrededor de 10-11 hilos. (Calculado usando una calculadora Erlang B estándar con A=5, $P_B$=0.01 resulta en c=10). |"
   ]
  },
  {
   "cell_type": "markdown",
   "id": "1d445907-885c-4a9e-81fe-47cb5d2af4aa",
   "metadata": {},
   "source": [
    "## *Conclusiones*"
   ]
  },
  {
   "cell_type": "markdown",
   "id": "ea2c0e30-1750-4bbd-bca0-e494db1856b3",
   "metadata": {},
   "source": [
    "La teoría de colas busca analizar y optimizar los sistemas de servicio para mejorar la eficiencia y la rentabilidad. El objetivo fundamental es comprender la dinámica de la formación de colas para poder diseñar sistemas que minimicen los tiempos de espera, optimicen la utilización de recursos y, en última instancia, mejoren la experiencia del usuario o cliente. La capacidad de analizar matemáticamente las líneas de espera permite estudiar factores como el tiempo medio de espera o la capacidad máxima de un sistema antes de que colapse[3]. \n",
    "\n",
    "Además, Erlang B no solo sirve para calcular el número de recursos, sino que también facilita implícitamente un análisis de costo-beneficio. Cada servidor adicional (hilo, licencia, conexión) reduce la probabilidad de bloqueo pero incurre en un costo. Erlang B ayuda a encontrar un punto de equilibrio basado en un Grado de Servicio aceptable, cuantificando el compromiso entre el costo de los recursos y el costo de un servicio deficiente o solicitudes perdidas. La flexibilidad del modelo Erlang B, donde los \"servidores\" pueden ser una abstracción de recursos físicos, lógicos o conceptuales, es una de las razones de su amplia aplicabilidad en la informática. \n",
    "\n",
    "A pesar de su utilidad, el modelo Erlang B tiene varias limitaciones que deben considerarse, especialmente en el contexto de los sistemas informáticos modernos, que a menudo presentan características de tráfico y comportamiento más complejas que las asumidas por el modelo.\n",
    "\n",
    "El tráfico real en sistemas de TI puede ser \"rafagoso\" (bursty) o autocorrelacionado, desviándose del proceso de llegada de Poisson. De manera similar, los tiempos de servicio para tareas computacionales pueden no seguir una distribución exponencial[4] .\n",
    "\n",
    "Mecanismos de Reintento: El modelo Erlang B asume que las solicitudes bloqueadas se eliminan y no reintentan el acceso al servicio. Sin embargo, en muchos sistemas de TI (como navegadores web, aplicaciones cliente o incluso componentes internos del sistema), los reintentos automáticos son una práctica común. \n",
    "\n",
    "Más allá de ser una simple fórmula de cálculo, el estudio y la aplicación de Erlang B inculcan una comprensión fundamental de los conceptos clave de la teoría del tráfico y el rendimiento de sistemas: la carga, la capacidad, el bloqueo y el Grado de Servicio. Estos conceptos son esenciales para cualquier ingeniero que se ocupe del rendimiento de los sistemas, independientemente de las herramientas específicas que utilice finalmente. "
   ]
  },
  {
   "cell_type": "code",
   "execution_count": null,
   "id": "cd9cec83-eb15-4797-bfb4-64f2f6673a8c",
   "metadata": {},
   "outputs": [],
   "source": []
  }
 ],
 "metadata": {
  "kernelspec": {
   "display_name": "Python 3 (ipykernel)",
   "language": "python",
   "name": "python3"
  },
  "language_info": {
   "codemirror_mode": {
    "name": "ipython",
    "version": 3
   },
   "file_extension": ".py",
   "mimetype": "text/x-python",
   "name": "python",
   "nbconvert_exporter": "python",
   "pygments_lexer": "ipython3",
   "version": "3.12.4"
  }
 },
 "nbformat": 4,
 "nbformat_minor": 5
}
