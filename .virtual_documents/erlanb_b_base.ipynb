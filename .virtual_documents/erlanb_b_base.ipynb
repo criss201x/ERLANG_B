import simpy
import random
import matplotlib.pyplot as plt


TIEMPO_SIMULACION = 100
TASA_LLEGADAS = 1/5      # una llegada cada 5 unidades de tiempo
TASA_SERVICIO = 1/4      # el servidor atiende en promedio cada 4 unidades de tiempo

# Variables para análisis
tiempos_espera = []


def cliente(env, nombre, servidor):
    llegada = env.now
    print(f"{nombre} llega en el tiempo {llegada:.2f}")
    
    with servidor.request() as req:
        yield req
        espera = env.now - llegada
        if espera:
            tiempos_espera.append(espera)
        else:
            print(f"{nombre} empieza a ser atendido en {env.now:.2f} (esperó {espera:.2f})")
        
        tiempo_servicio = random.expovariate(TASA_SERVICIO)
        yield env.timeout(tiempo_servicio)
        print(f"{nombre} termina en {env.now:.2f}")


def generador_clientes(env, servidor):
    i = 0
    while True:
        yield env.timeout(random.expovariate(TASA_LLEGADAS))
        i += 1
        env.process(cliente(env, f"Cliente {i}", servidor))



# Crear entorno de simulación
env = simpy.Environment()
servidor = simpy.Resource(env, capacity=1)
env.process(generador_clientes(env, servidor))
env.run(until=TIEMPO_SIMULACION)

# Mostrar resultados
plt.hist(tiempos_espera, bins=15, color='skyblue', edgecolor='black')
plt.title("Distribución de tiempos de espera")
plt.xlabel("Tiempo de espera")
plt.ylabel("Número de clientes")
plt.grid(True)
plt.show()

# Estadísticas
print(f"\nClientes atendidos: {len(tiempos_espera)}")
print(f"Tiempo promedio de espera: {sum(tiempos_espera)/len(tiempos_espera):.2f} unidades de tiempo")



