
















































































generate_mmkk_diagram()


















































def generate_mmkk_diagram():
    from graphviz import Digraph
    dot = Digraph('SistemaMMKK', filename='mmkk_system.gv', engine='dot')
    dot.attr(rankdir='TB', size='15,16', bgcolor='#f8f9fa', fontname='Arial',
            label='\nSistema de Colas M/M/K/K (Erlang B)\n', labelloc='t', fontsize='12')

    # ===== PALETA COMPACTA =====
    colors = {
        'inicio': '#2ecc71',
        'fin': '#e74c3c',
        'proceso': '#3498db',
        'decision': '#f39c12',
        'servidor': '#27ae60',
        'rechazo': '#c0392b',
        'formula': '#1abc9c'
    }

    # ===== NODOS PRINCIPALES =====
    nodes = [
        ('Start', 'INICIO\nConfigura:\nK servidores\nλ (llegadas/h)\nμ (servicios/h)', 'ellipse', colors['inicio']),
        ('Init', 'Inicializa:\n• Serv. libres = K\n• Reloj = 0\n• Contadores = 0', 'box', colors['proceso']),
        ('Time', 'Avanzar tiempo:\nt += Δt ~ exp(λ)', 'box', colors['proceso']),
        ('Arrival', '¿Llegada cliente?', 'diamond', colors['decision']),
        ('Check', '¿Servidores libres?', 'diamond', colors['decision']),
        ('Assign', 'Asignar servidor:\nTiempo ~ exp(μ)', 'box', colors['servidor']),
        ('Release', 'Liberar servidor', 'box', colors['servidor']),
        ('Reject', 'Cliente rechazado\n(Contar bloqueo)', 'box', colors['rechazo'])
    ]

    for id, label, shape, color in nodes:
        dot.node(id, label, shape=shape, style='filled,rounded' if shape == 'box' else 'filled', fillcolor=color)

    # ===== BLOQUE DE MÉTRICAS =====
    with dot.subgraph(name='cluster_metrics') as met:
        met.attr(label='Métricas Finales', style='rounded,filled', fillcolor='#fff9e6')
        met.node('Results', '''Resultados:
    - Atendidos: A
    - Rechazados: R
    - Prob. bloqueo: R/(A+R)
    - Ocupación: A/(A+R)''', shape='box', style='filled', fillcolor='#fffacd')
        met.node('ErlangB', '''Erlang B:
    B(E,K) = (Eᴷ/K!)/Σ(Eⁱ/i!)
    E = λ/μ (Erlangs)''', shape='box', style='filled', fillcolor=colors['formula'], fontname='Courier', fontsize='10')

    # ===== LEYENDA VERTICAL =====
    with dot.subgraph(name='cluster_legend') as leg:
        leg.attr(style='filled', fillcolor='#ecf0f1')
        legend_items = [
            'Leyenda:',
            '◼ M/M/K/K',
            '◼ λ = Tasa llegadas',
            '◼ μ = Tasa servicio',
            '◼ K = Servidores',
            '◼ B(E,K) = Prob. bloqueo'
        ]
        for i, item in enumerate(legend_items):
            leg.node(f'L{i}', item, shape='plaintext', fontcolor='#2c3e50' if i==0 else 'black')

    # ===== CONEXIONES CORREGIDAS =====
    connections = [
        ('Start', 'Init', None),
        ('Init', 'Time', None),
        ('Time', 'Arrival', None),
        ('Arrival', 'Check', 'Sí'),
        ('Arrival', 'Time', 'No'),
        ('Check', 'Assign', 'Sí'),
        ('Check', 'Reject', 'No'),
        ('Assign', 'Release', None),
        ('Release', 'Time', None),
        ('Reject', 'Time', None),
        ('Time', 'Results', 'Fin simulación'),
        ('Results', 'ErlangB', None)
    ]

    for src, dst, label in connections:
        dot.edge(src, dst, label=label, style='dashed' if label in ['No', None] else 'solid')

    # ===== AJUSTES FINALES =====
    dot.attr(ranksep='0.4', nodesep='0.3')
    dot
    return dot









