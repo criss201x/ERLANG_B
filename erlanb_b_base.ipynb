{
 "cells": [
  {
   "cell_type": "code",
   "execution_count": 1,
   "id": "eaebc494-7628-4bdf-9896-debfc41371a4",
   "metadata": {},
   "outputs": [],
   "source": [
    "import simpy\n",
    "import random\n",
    "import numpy as np\n",
    "import matplotlib.pyplot as plt"
   ]
  },
  {
   "cell_type": "code",
   "execution_count": 12,
   "id": "9d52ebea-0fb2-411b-8543-2bdc6668d0a2",
   "metadata": {},
   "outputs": [],
   "source": [
    "# Parámetros de la simulación\n",
    "TIEMPO_SIMULACION = 100\n",
    "TASA_LLEGADAS = 1/5      # una llegada cada 5 unidades de tiempo\n",
    "TASA_SERVICIO = 1/4      # el servidor atiende en promedio cada 4 unidades de tiempo\n",
    "NUM_SERVIDORES = 1       # Número de servidores (K en M/M/K/K)\n",
    "\n",
    "# Arrays de tiempos de llegada y servicio\n",
    "tiempos_llegada = [1,2,3,7,2,3,8,0,5] # Tiempos entre llegadas\n",
    "tiempos_servicio = [9,1,4,1,1,5,3,8,2]  # Tiempos de servicio\n",
    "\n",
    "# Variables para análisis\n",
    "tiempos_espera = []\n",
    "clientes_bloqueados = 0\n",
    "total_clientes = 0"
   ]
  },
  {
   "cell_type": "code",
   "execution_count": 13,
   "id": "bc64c753-d367-48e4-977d-a8e95e2acbcf",
   "metadata": {},
   "outputs": [],
   "source": [
    "def cliente(env, nombre, servidor, tiempo_servicio):\n",
    "    global clientes_bloqueados, total_clientes\n",
    "    llegada = env.now\n",
    "    total_clientes += 1\n",
    "    print(f\"{nombre} llega en el tiempo {llegada:.2f}\")\n",
    "    \n",
    "    # Verificar si hay capacidad en el servidor\n",
    "    if servidor.count < servidor.capacity:\n",
    "        with servidor.request() as req:\n",
    "            yield req\n",
    "            espera = env.now - llegada\n",
    "            tiempos_espera.append(espera)\n",
    "            print(f\"{nombre} empieza a ser atendido en {env.now:.2f} (esperó {espera:.2f})\")\n",
    "            \n",
    "            #tiempo_servicio = random.expovariate(TASA_SERVICIO)\n",
    "            yield env.timeout(tiempo_servicio)\n",
    "            print(f\"{nombre} termina en {env.now:.2f}\")\n",
    "    else:\n",
    "        clientes_bloqueados += 1\n",
    "        print(f\"{nombre} es bloqueado en el tiempo {llegada:.2f} (servidor lleno)\")"
   ]
  },
  {
   "cell_type": "code",
   "execution_count": 14,
   "id": "9a208a69-75cb-4241-8893-b04435af330d",
   "metadata": {},
   "outputs": [],
   "source": [
    "#def generador_clientes(env, servidor):\n",
    "#    i = 0\n",
    "#    while True:\n",
    "#        yield env.timeout(random.expovariate(TASA_LLEGADAS))\n",
    "#        i += 1\n",
    "#        env.process(cliente(env, f\"Cliente {i}\", servidor))\n",
    "def generador_clientes(env, servidor, tiempos_llegada, tiempos_servicio):\n",
    "    i = 0\n",
    "    for tiempo_llegada, tiempo_servicio in zip(tiempos_llegada, tiempos_servicio):\n",
    "        yield env.timeout(tiempo_llegada)\n",
    "        i += 1\n",
    "        env.process(cliente(env, f\"Cliente {i}\", servidor, tiempo_servicio))"
   ]
  },
  {
   "cell_type": "code",
   "execution_count": 15,
   "id": "9a3e1740",
   "metadata": {},
   "outputs": [],
   "source": [
    "\n",
    "def erlang_b(K, A):\n",
    "    \"\"\"Modelo Erlang B para M/M/K/K\"\"\"\n",
    "    B = 1.0\n",
    "    for k in range(1, K + 1):\n",
    "        B = (A * B) / (k + A * B)\n",
    "    return B"
   ]
  },
  {
   "cell_type": "code",
   "execution_count": 16,
   "id": "aa446da4-5be2-4664-9908-3c689d45cfb3",
   "metadata": {},
   "outputs": [
    {
     "name": "stdout",
     "output_type": "stream",
     "text": [
      "Cliente 1 llega en el tiempo 1.00\n",
      "Cliente 1 empieza a ser atendido en 1.00 (esperó 0.00)\n",
      "Cliente 2 llega en el tiempo 3.00\n",
      "Cliente 2 es bloqueado en el tiempo 3.00 (servidor lleno)\n",
      "Cliente 3 llega en el tiempo 6.00\n",
      "Cliente 3 es bloqueado en el tiempo 6.00 (servidor lleno)\n",
      "Cliente 1 termina en 10.00\n",
      "Cliente 4 llega en el tiempo 13.00\n",
      "Cliente 4 empieza a ser atendido en 13.00 (esperó 0.00)\n",
      "Cliente 4 termina en 14.00\n",
      "Cliente 5 llega en el tiempo 15.00\n",
      "Cliente 5 empieza a ser atendido en 15.00 (esperó 0.00)\n",
      "Cliente 5 termina en 16.00\n",
      "Cliente 6 llega en el tiempo 18.00\n",
      "Cliente 6 empieza a ser atendido en 18.00 (esperó 0.00)\n",
      "Cliente 6 termina en 23.00\n",
      "Cliente 7 llega en el tiempo 26.00\n",
      "Cliente 8 llega en el tiempo 26.00\n",
      "Cliente 8 es bloqueado en el tiempo 26.00 (servidor lleno)\n",
      "Cliente 7 empieza a ser atendido en 26.00 (esperó 0.00)\n",
      "Cliente 7 termina en 29.00\n",
      "Cliente 9 llega en el tiempo 31.00\n",
      "Cliente 9 empieza a ser atendido en 31.00 (esperó 0.00)\n",
      "Cliente 9 termina en 33.00\n"
     ]
    },
    {
     "data": {
      "image/png": "[encoded data removed]",
      "text/plain": [
       "<Figure size 640x480 with 1 Axes>"
      ]
     },
     "metadata": {},
     "output_type": "display_data"
    },
    {
     "name": "stdout",
     "output_type": "stream",
     "text": [
      "\n",
      "Clientes atendidos: 6\n",
      "Clientes bloqueados: 3\n",
      "Probabilidad de bloqueo: 0.33\n",
      "Tiempo promedio de espera: 0.00 unidades de tiempo\n",
      "Tasa de llegada (λ): 2.00\n",
      "Tasa de servicio (μ): 0.26\n",
      "Tráfico ofrecido: 7.56 Erlangs\n",
      "Probabilidad de bloqueo (rechazo): 0.8831\n",
      "Probabilidad de servicio exitoso: 0.1169\n"
     ]
    }
   ],
   "source": [
    "# Crear entorno de simulación\n",
    "env = simpy.Environment()\n",
    "servidor = simpy.Resource(env, capacity=NUM_SERVIDORES)# k servidores \n",
    "#env.process(generador_clientes(env, servidor))\n",
    "env.process(generador_clientes(env, servidor, tiempos_llegada, tiempos_servicio))\n",
    "env.run(until=TIEMPO_SIMULACION)\n",
    "\n",
    "# Calcular probabilidad de bloqueo\n",
    "probabilidad_bloqueo = clientes_bloqueados / total_clientes\n",
    "\n",
    "\n",
    "# Representar visualmente la probabilidad de bloqueo\n",
    "plt.bar(['Clientes atendidos', 'Clientes bloqueados'], \n",
    "        [total_clientes - clientes_bloqueados, clientes_bloqueados], \n",
    "        color=['green', 'red'], edgecolor='black')\n",
    "plt.title(\"Clientes atendidos vs bloqueados\")\n",
    "plt.ylabel(\"Número de clientes\")\n",
    "plt.show()\n",
    "\n",
    "\n",
    "# Estadísticas\n",
    "print(f\"\\nClientes atendidos: {total_clientes - clientes_bloqueados}\")\n",
    "print(f\"Clientes bloqueados: {clientes_bloqueados}\")\n",
    "print(f\"Probabilidad de bloqueo: {probabilidad_bloqueo:.2f}\")\n",
    "if tiempos_espera :\n",
    "    print(f\"Tiempo promedio de espera: {sum(tiempos_espera)/len(tiempos_espera):.2f} unidades de tiempo\")\n",
    "else:\n",
    "    print(\"No hubo tiempos de espera registrados.\")\n",
    "\n",
    "\n",
    "# 1. Calcular diferencias entre llegadas si son tiempos absolutos\n",
    "interllegadas = np.diff(tiempos_llegada)  # [1.0, 1.5, 1.5, 1.2]\n",
    "\n",
    "# 2. Tasa de llegada (lambda) = 1 / tiempo promedio entre llegadas\n",
    "tasa_llegada = 1 / np.mean(interllegadas)\n",
    "\n",
    "# 3. Tasa de servicio (mu) = 1 / tiempo promedio de servicio\n",
    "tasa_servicio = 1 / np.mean(tiempos_servicio)\n",
    "\n",
    "print(f\"Tasa de llegada (λ): {tasa_llegada:.2f}\")\n",
    "print(f\"Tasa de servicio (μ): {tasa_servicio:.2f}\")    \n",
    "\n",
    "\n",
    "# Tráfico ofrecido en Erlangs\n",
    "A = tasa_llegada / tasa_servicio\n",
    "\n",
    "# Probabilidad de bloqueo (el cliente llega y el único servidor está ocupado)\n",
    "bloqueo = erlang_b(NUM_SERVIDORES, A)\n",
    "\n",
    "# Resultados\n",
    "print(f\"Tráfico ofrecido: {A:.2f} Erlangs\")\n",
    "print(f\"Probabilidad de bloqueo (rechazo): {bloqueo:.4f}\")\n",
    "print(f\"Probabilidad de servicio exitoso: {1 - bloqueo:.4f}\")"
   ]
  },
  {
   "cell_type": "code",
   "execution_count": null,
   "id": "23f48719",
   "metadata": {},
   "outputs": [],
   "source": []
  },
  {
   "cell_type": "code",
   "execution_count": null,
   "id": "51debeb5-95c1-44ed-9b8e-01bb6ac1f4f2",
   "metadata": {},
   "outputs": [],
   "source": []
  }
 ],
 "metadata": {
  "kernelspec": {
   "display_name": "base",
   "language": "python",
   "name": "python3"
  },
  "language_info": {
   "codemirror_mode": {
    "name": "ipython",
    "version": 3
   },
   "file_extension": ".py",
   "mimetype": "text/x-python",
   "name": "python",
   "nbconvert_exporter": "python",
   "pygments_lexer": "ipython3",
   "version": "3.12.4"
  }
 },
 "nbformat": 4,
 "nbformat_minor": 5
}
