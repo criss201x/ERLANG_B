{
 "cells": [
  {
   "cell_type": "code",
   "execution_count": 7,
   "id": "eaebc494-7628-4bdf-9896-debfc41371a4",
   "metadata": {},
   "outputs": [],
   "source": [
    "import simpy\n",
    "import random\n",
    "import matplotlib.pyplot as plt\n"
   ]
  },
  {
   "cell_type": "code",
   "execution_count": 1,
   "id": "9d52ebea-0fb2-411b-8543-2bdc6668d0a2",
   "metadata": {},
   "outputs": [],
   "source": [
    "TIEMPO_SIMULACION = 100\n",
    "TASA_LLEGADAS = 1/5      # una llegada cada 5 unidades de tiempo\n",
    "TASA_SERVICIO = 1/4      # el servidor atiende en promedio cada 4 unidades de tiempo\n",
    "\n",
    "# Variables para análisis\n",
    "tiempos_espera = []"
   ]
  },
  {
   "cell_type": "code",
   "execution_count": 9,
   "id": "bc64c753-d367-48e4-977d-a8e95e2acbcf",
   "metadata": {},
   "outputs": [],
   "source": [
    "def cliente(env, nombre, servidor):\n",
    "    llegada = env.now\n",
    "    print(f\"{nombre} llega en el tiempo {llegada:.2f}\")\n",
    "    \n",
    "    with servidor.request() as req:\n",
    "        yield req\n",
    "        espera = env.now - llegada\n",
    "        tiempos_espera.append(espera)\n",
    "        print(f\"{nombre} empieza a ser atendido en {env.now:.2f} (esperó {espera:.2f})\")\n",
    "        \n",
    "        tiempo_servicio = random.expovariate(TASA_SERVICIO)\n",
    "        yield env.timeout(tiempo_servicio)\n",
    "        print(f\"{nombre} termina en {env.now:.2f}\")"
   ]
  },
  {
   "cell_type": "code",
   "execution_count": 10,
   "id": "9a208a69-75cb-4241-8893-b04435af330d",
   "metadata": {},
   "outputs": [],
   "source": [
    "def generador_clientes(env, servidor):\n",
    "    i = 0\n",
    "    while True:\n",
    "        yield env.timeout(random.expovariate(TASA_LLEGADAS))\n",
    "        i += 1\n",
    "        env.process(cliente(env, f\"Cliente {i}\", servidor))\n"
   ]
  },
  {
   "cell_type": "code",
   "execution_count": 11,
   "id": "aa446da4-5be2-4664-9908-3c689d45cfb3",
   "metadata": {},
   "outputs": [
    {
     "name": "stdout",
     "output_type": "stream",
     "text": [
      "Cliente 1 llega en el tiempo 13.32\n",
      "Cliente 1 empieza a ser atendido en 13.32 (esperó 0.00)\n",
      "Cliente 2 llega en el tiempo 14.70\n",
      "Cliente 1 termina en 14.94\n",
      "Cliente 2 empieza a ser atendido en 14.94 (esperó 0.24)\n",
      "Cliente 3 llega en el tiempo 22.03\n",
      "Cliente 4 llega en el tiempo 27.10\n",
      "Cliente 5 llega en el tiempo 28.53\n",
      "Cliente 6 llega en el tiempo 30.83\n",
      "Cliente 2 termina en 31.88\n",
      "Cliente 3 empieza a ser atendido en 31.88 (esperó 9.85)\n",
      "Cliente 7 llega en el tiempo 32.63\n",
      "Cliente 8 llega en el tiempo 36.69\n",
      "Cliente 3 termina en 38.71\n",
      "Cliente 4 empieza a ser atendido en 38.71 (esperó 11.60)\n",
      "Cliente 9 llega en el tiempo 39.66\n",
      "Cliente 10 llega en el tiempo 40.85\n",
      "Cliente 4 termina en 41.83\n",
      "Cliente 5 empieza a ser atendido en 41.83 (esperó 13.31)\n",
      "Cliente 11 llega en el tiempo 44.61\n",
      "Cliente 5 termina en 46.48\n",
      "Cliente 6 empieza a ser atendido en 46.48 (esperó 15.64)\n",
      "Cliente 12 llega en el tiempo 47.49\n",
      "Cliente 13 llega en el tiempo 48.93\n",
      "Cliente 6 termina en 50.50\n",
      "Cliente 7 empieza a ser atendido en 50.50 (esperó 17.87)\n",
      "Cliente 14 llega en el tiempo 51.02\n",
      "Cliente 7 termina en 52.97\n",
      "Cliente 8 empieza a ser atendido en 52.97 (esperó 16.28)\n",
      "Cliente 15 llega en el tiempo 53.91\n",
      "Cliente 16 llega en el tiempo 54.45\n",
      "Cliente 8 termina en 56.25\n",
      "Cliente 9 empieza a ser atendido en 56.25 (esperó 16.59)\n",
      "Cliente 17 llega en el tiempo 56.31\n",
      "Cliente 18 llega en el tiempo 58.08\n",
      "Cliente 9 termina en 62.13\n",
      "Cliente 10 empieza a ser atendido en 62.13 (esperó 21.28)\n",
      "Cliente 10 termina en 62.49\n",
      "Cliente 11 empieza a ser atendido en 62.49 (esperó 17.88)\n",
      "Cliente 11 termina en 69.99\n",
      "Cliente 12 empieza a ser atendido en 69.99 (esperó 22.50)\n",
      "Cliente 12 termina en 72.44\n",
      "Cliente 13 empieza a ser atendido en 72.44 (esperó 23.51)\n",
      "Cliente 13 termina en 73.60\n",
      "Cliente 14 empieza a ser atendido en 73.60 (esperó 22.58)\n",
      "Cliente 14 termina en 74.11\n",
      "Cliente 15 empieza a ser atendido en 74.11 (esperó 20.20)\n",
      "Cliente 19 llega en el tiempo 75.86\n",
      "Cliente 20 llega en el tiempo 78.26\n",
      "Cliente 15 termina en 81.16\n",
      "Cliente 16 empieza a ser atendido en 81.16 (esperó 26.71)\n",
      "Cliente 16 termina en 82.53\n",
      "Cliente 17 empieza a ser atendido en 82.53 (esperó 26.22)\n",
      "Cliente 21 llega en el tiempo 82.74\n",
      "Cliente 22 llega en el tiempo 85.65\n",
      "Cliente 17 termina en 87.04\n",
      "Cliente 18 empieza a ser atendido en 87.04 (esperó 28.97)\n",
      "Cliente 23 llega en el tiempo 92.04\n",
      "Cliente 18 termina en 94.76\n",
      "Cliente 19 empieza a ser atendido en 94.76 (esperó 18.91)\n",
      "Cliente 24 llega en el tiempo 95.16\n",
      "Cliente 19 termina en 97.01\n",
      "Cliente 20 empieza a ser atendido en 97.01 (esperó 18.75)\n"
     ]
    },
    {
     "data": {
      "image/png": "[encoded data removed]",
      "text/plain": [
       "<Figure size 640x480 with 1 Axes>"
      ]
     },
     "metadata": {},
     "output_type": "display_data"
    },
    {
     "name": "stdout",
     "output_type": "stream",
     "text": [
      "\n",
      "Clientes atendidos: 20\n",
      "Tiempo promedio de espera: 17.44 unidades de tiempo\n"
     ]
    }
   ],
   "source": [
    "# Crear entorno de simulación\n",
    "env = simpy.Environment()\n",
    "servidor = simpy.Resource(env, capacity=1)\n",
    "env.process(generador_clientes(env, servidor))\n",
    "env.run(until=TIEMPO_SIMULACION)\n",
    "\n",
    "# Mostrar resultados\n",
    "plt.hist(tiempos_espera, bins=15, color='skyblue', edgecolor='black')\n",
    "plt.title(\"Distribución de tiempos de espera\")\n",
    "plt.xlabel(\"Tiempo de espera\")\n",
    "plt.ylabel(\"Número de clientes\")\n",
    "plt.grid(True)\n",
    "plt.show()\n",
    "\n",
    "# Estadísticas\n",
    "print(f\"\\nClientes atendidos: {len(tiempos_espera)}\")\n",
    "print(f\"Tiempo promedio de espera: {sum(tiempos_espera)/len(tiempos_espera):.2f} unidades de tiempo\")"
   ]
  },
  {
   "cell_type": "code",
   "execution_count": null,
   "id": "51debeb5-95c1-44ed-9b8e-01bb6ac1f4f2",
   "metadata": {},
   "outputs": [],
   "source": []
  }
 ],
 "metadata": {
  "kernelspec": {
   "display_name": "Python 3 (ipykernel)",
   "language": "python",
   "name": "python3"
  },
  "language_info": {
   "codemirror_mode": {
    "name": "ipython",
    "version": 3
   },
   "file_extension": ".py",
   "mimetype": "text/x-python",
   "name": "python",
   "nbconvert_exporter": "python",
   "pygments_lexer": "ipython3",
   "version": "3.12.4"
  }
 },
 "nbformat": 4,
 "nbformat_minor": 5
}
