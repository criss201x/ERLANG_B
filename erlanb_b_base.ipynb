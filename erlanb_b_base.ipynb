{
 "cells": [
  {
   "cell_type": "code",
   "execution_count": 38,
   "id": "eaebc494-7628-4bdf-9896-debfc41371a4",
   "metadata": {},
   "outputs": [],
   "source": [
    "import simpy\n",
    "import random\n",
    "import matplotlib.pyplot as plt"
   ]
  },
  {
   "cell_type": "code",
   "execution_count": 43,
   "id": "9d52ebea-0fb2-411b-8543-2bdc6668d0a2",
   "metadata": {},
   "outputs": [],
   "source": [
    "TIEMPO_SIMULACION = 100\n",
    "TASA_LLEGADAS = 1/5      # una llegada cada 5 unidades de tiempo\n",
    "TASA_SERVICIO = 1/4      # el servidor atiende en promedio cada 4 unidades de tiempo\n",
    "\n",
    "# Variables para análisis\n",
    "tiempos_espera = []"
   ]
  },
  {
   "cell_type": "code",
   "execution_count": 44,
   "id": "bc64c753-d367-48e4-977d-a8e95e2acbcf",
   "metadata": {},
   "outputs": [],
   "source": [
    "def cliente(env, nombre, servidor):\n",
    "    llegada = env.now\n",
    "    print(f\"{nombre} llega en el tiempo {llegada:.2f}\")\n",
    "    \n",
    "    with servidor.request() as req:\n",
    "        yield req\n",
    "        espera = env.now - llegada\n",
    "        if espera:\n",
    "            tiempos_espera.append(espera)\n",
    "        else:\n",
    "            print(f\"{nombre} empieza a ser atendido en {env.now:.2f} (esperó {espera:.2f})\")\n",
    "        \n",
    "        tiempo_servicio = random.expovariate(TASA_SERVICIO)\n",
    "        yield env.timeout(tiempo_servicio)\n",
    "        print(f\"{nombre} termina en {env.now:.2f}\")"
   ]
  },
  {
   "cell_type": "code",
   "execution_count": 45,
   "id": "9a208a69-75cb-4241-8893-b04435af330d",
   "metadata": {},
   "outputs": [],
   "source": [
    "def generador_clientes(env, servidor):\n",
    "    i = 0\n",
    "    while True:\n",
    "        yield env.timeout(random.expovariate(TASA_LLEGADAS))\n",
    "        i += 1\n",
    "        env.process(cliente(env, f\"Cliente {i}\", servidor))\n"
   ]
  },
  {
   "cell_type": "code",
   "execution_count": 46,
   "id": "aa446da4-5be2-4664-9908-3c689d45cfb3",
   "metadata": {},
   "outputs": [
    {
     "name": "stdout",
     "output_type": "stream",
     "text": [
      "Cliente 1 llega en el tiempo 2.44\n",
      "Cliente 1 empieza a ser atendido en 2.44 (esperó 0.00)\n",
      "Cliente 1 termina en 2.90\n",
      "Cliente 2 llega en el tiempo 6.01\n",
      "Cliente 2 empieza a ser atendido en 6.01 (esperó 0.00)\n",
      "Cliente 3 llega en el tiempo 7.00\n",
      "Cliente 2 termina en 8.36\n",
      "Cliente 3 termina en 11.44\n",
      "Cliente 4 llega en el tiempo 17.68\n",
      "Cliente 4 empieza a ser atendido en 17.68 (esperó 0.00)\n",
      "Cliente 5 llega en el tiempo 18.52\n",
      "Cliente 6 llega en el tiempo 19.00\n",
      "Cliente 4 termina en 23.36\n",
      "Cliente 7 llega en el tiempo 23.99\n",
      "Cliente 8 llega en el tiempo 25.42\n",
      "Cliente 5 termina en 26.10\n",
      "Cliente 6 termina en 27.22\n",
      "Cliente 9 llega en el tiempo 31.84\n",
      "Cliente 10 llega en el tiempo 32.66\n",
      "Cliente 7 termina en 35.63\n",
      "Cliente 8 termina en 40.77\n",
      "Cliente 11 llega en el tiempo 41.03\n",
      "Cliente 12 llega en el tiempo 42.27\n",
      "Cliente 9 termina en 42.73\n",
      "Cliente 10 termina en 46.02\n",
      "Cliente 11 termina en 46.42\n",
      "Cliente 12 termina en 47.67\n",
      "Cliente 13 llega en el tiempo 48.09\n",
      "Cliente 13 empieza a ser atendido en 48.09 (esperó 0.00)\n",
      "Cliente 14 llega en el tiempo 48.72\n",
      "Cliente 13 termina en 52.56\n",
      "Cliente 15 llega en el tiempo 55.13\n",
      "Cliente 14 termina en 55.16\n",
      "Cliente 16 llega en el tiempo 55.30\n",
      "Cliente 15 termina en 56.24\n",
      "Cliente 16 termina en 59.45\n",
      "Cliente 17 llega en el tiempo 62.78\n",
      "Cliente 17 empieza a ser atendido en 62.78 (esperó 0.00)\n",
      "Cliente 18 llega en el tiempo 62.82\n",
      "Cliente 17 termina en 63.28\n",
      "Cliente 18 termina en 64.26\n",
      "Cliente 19 llega en el tiempo 67.84\n",
      "Cliente 19 empieza a ser atendido en 67.84 (esperó 0.00)\n",
      "Cliente 19 termina en 68.07\n",
      "Cliente 20 llega en el tiempo 68.76\n",
      "Cliente 20 empieza a ser atendido en 68.76 (esperó 0.00)\n",
      "Cliente 20 termina en 70.61\n",
      "Cliente 21 llega en el tiempo 74.76\n",
      "Cliente 21 empieza a ser atendido en 74.76 (esperó 0.00)\n",
      "Cliente 21 termina en 78.93\n",
      "Cliente 22 llega en el tiempo 82.95\n",
      "Cliente 22 empieza a ser atendido en 82.95 (esperó 0.00)\n",
      "Cliente 23 llega en el tiempo 84.19\n",
      "Cliente 22 termina en 84.67\n",
      "Cliente 23 termina en 85.64\n",
      "Cliente 24 llega en el tiempo 88.61\n",
      "Cliente 24 empieza a ser atendido en 88.61 (esperó 0.00)\n",
      "Cliente 24 termina en 90.78\n",
      "Cliente 25 llega en el tiempo 95.07\n",
      "Cliente 25 empieza a ser atendido en 95.07 (esperó 0.00)\n",
      "Cliente 25 termina en 95.46\n",
      "Cliente 26 llega en el tiempo 98.60\n",
      "Cliente 26 empieza a ser atendido en 98.60 (esperó 0.00)\n"
     ]
    },
    {
     "data": {
      "image/png": "[encoded data removed]",
      "text/plain": [
       "<Figure size 640x480 with 1 Axes>"
      ]
     },
     "metadata": {},
     "output_type": "display_data"
    },
    {
     "name": "stdout",
     "output_type": "stream",
     "text": [
      "\n",
      "Clientes atendidos: 14\n",
      "Tiempo promedio de espera: 4.33 unidades de tiempo\n"
     ]
    }
   ],
   "source": [
    "# Crear entorno de simulación\n",
    "env = simpy.Environment()\n",
    "servidor = simpy.Resource(env, capacity=1)\n",
    "env.process(generador_clientes(env, servidor))\n",
    "env.run(until=TIEMPO_SIMULACION)\n",
    "\n",
    "# Mostrar resultados\n",
    "plt.hist(tiempos_espera, bins=15, color='skyblue', edgecolor='black')\n",
    "plt.title(\"Distribución de tiempos de espera\")\n",
    "plt.xlabel(\"Tiempo de espera\")\n",
    "plt.ylabel(\"Número de clientes\")\n",
    "plt.grid(True)\n",
    "plt.show()\n",
    "\n",
    "# Estadísticas\n",
    "print(f\"\\nClientes atendidos: {len(tiempos_espera)}\")\n",
    "print(f\"Tiempo promedio de espera: {sum(tiempos_espera)/len(tiempos_espera):.2f} unidades de tiempo\")"
   ]
  },
  {
   "cell_type": "code",
   "execution_count": null,
   "id": "51debeb5-95c1-44ed-9b8e-01bb6ac1f4f2",
   "metadata": {},
   "outputs": [],
   "source": []
  }
 ],
 "metadata": {
  "kernelspec": {
   "display_name": "Python 3 (ipykernel)",
   "language": "python",
   "name": "python3"
  },
  "language_info": {
   "codemirror_mode": {
    "name": "ipython",
    "version": 3
   },
   "file_extension": ".py",
   "mimetype": "text/x-python",
   "name": "python",
   "nbconvert_exporter": "python",
   "pygments_lexer": "ipython3",
   "version": "3.12.4"
  }
 },
 "nbformat": 4,
 "nbformat_minor": 5
}
